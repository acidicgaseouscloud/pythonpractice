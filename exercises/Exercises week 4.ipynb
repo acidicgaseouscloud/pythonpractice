{
 "cells": [
  {
   "cell_type": "markdown",
   "metadata": {},
   "source": [
    "# Exercises week 4\n",
    "\n",
    "Ex. 2, 3 from https://github.com/jivoi/junky/blob/master/python_simple_ex/README.md\n",
    "\n",
    "You can try your code in these exercises on one of the text files in the `data/` directory that comes with the notebook."
   ]
  },
  {
   "cell_type": "markdown",
   "metadata": {},
   "source": [
    "1. Write a function `search(filename, keyword)` that goes through a file line by line; if the line contains the string `keyword`, it prints the line and its line number."
   ]
  },
  {
   "cell_type": "code",
   "execution_count": 42,
   "metadata": {},
   "outputs": [],
   "source": [
    "def puncStrip(string): \n",
    "    punctuation = '''!()-[]{};:'\"\\,<>./?@#$%^&*_~'''\n",
    "    puncLessString = \"\"\n",
    "    for char in string: \n",
    "        if char not in punctuation:\n",
    "            puncLessString += char\n",
    "    return puncLessString    "
   ]
  },
  {
   "cell_type": "code",
   "execution_count": 47,
   "metadata": {},
   "outputs": [],
   "source": [
    "def cleanData(filename): \n",
    "    with open(filename) as infile:\n",
    "        text = infile.read()\n",
    "    text = text.lower()\n",
    "    text = puncStrip(text)\n",
    "    return text"
   ]
  },
  {
   "cell_type": "code",
   "execution_count": 43,
   "metadata": {},
   "outputs": [
    {
     "name": "stdout",
     "output_type": "stream",
     "text": [
      "8 \t   Samp. Gregory, on my word, we'll not carry coals.\n",
      "12 \t   Samp. I mean, an we be in choler, we'll draw.\n",
      "16 \t   Samp. I strike quickly, being moved.\n",
      "20 \t   Samp. A dog of the house of Montague moves me.\n",
      "25 \t   Samp. A dog of that house shall move me to stand. I will take\n",
      "31 \t   Samp. 'Tis true; and therefore women, being the weaker vessels,\n",
      "37 \t   Samp. 'Tis all one. I will show myself a tyrant. When I have\n",
      "43 \t   Samp. Ay, the heads of the maids, or their maidenheads.\n",
      "48 \t   Samp. Me they shall feel while I am able to stand; and 'tis known I\n",
      "58 \t   Samp. My naked weapon is out. Quarrel! I will back thee.\n",
      "62 \t   Samp. Fear me not.\n",
      "66 \t   Samp. Let us take the law of our sides; let them begin.\n",
      "70 \t   Samp. Nay, as they dare. I will bite my thumb at them; which is\n",
      "75 \t   Samp. I do bite my thumb, sir.\n",
      "79 \t   Samp. [aside to Gregory] Is the law of our side if I say ay?\n",
      "83 \t   Samp. No, sir, I do not bite my thumb at you, sir; but I bite my\n",
      "90 \t   Samp. But if you do, sir, am for you. I serve as good a man as\n",
      "95 \t   Samp. Well, sir.\n"
     ]
    }
   ],
   "source": [
    "def search(filename, keyword): \n",
    "    with open(filename) as infile:\n",
    "        text = infile.read()\n",
    "    lineList = text.split(\"\\n\")\n",
    "    lineNumber = 0\n",
    "    for line in lineList: \n",
    "        lineNumber += 1\n",
    "        words = line.split()\n",
    "        if keyword in words: \n",
    "            print(f\"{lineNumber} \\t {line}\")\n",
    "            \n",
    "    \n",
    "search('data/romeo-and-juliet-excerpt.txt', \"Samp.\")\n"
   ]
  },
  {
   "cell_type": "markdown",
   "metadata": {},
   "source": [
    "2. A hapax legomenon (often abbreviated to hapax) is a word which occurs only once in either the written record of a language, the works of an author, or in a single text. Define a function that given the file name of a text will return all its hapaxes as a list. Make sure your program ignores capitalization."
   ]
  },
  {
   "cell_type": "code",
   "execution_count": 53,
   "metadata": {},
   "outputs": [
    {
     "data": {
      "text/plain": [
       "['bleh']"
      ]
     },
     "execution_count": 53,
     "metadata": {},
     "output_type": "execute_result"
    }
   ],
   "source": [
    "def hapaxSearch(filename): \n",
    "    text = cleanData(filename)\n",
    "    words = text.split()\n",
    "    freq = {}\n",
    "    for word in words: \n",
    "        freq[word]= freq.get(word, 0) + 1\n",
    "    hapaxList = []\n",
    "    for word in freq:\n",
    "        if freq[word] == 1:\n",
    "            hapaxList.append(word)\n",
    "    if not hapaxList:\n",
    "        print(\"No hapax legomenons found.\")\n",
    "    else:\n",
    "        return hapaxList\n",
    "            \n",
    "            \n",
    "hapaxSearch('data/romeo-and-juliet-excerpt.txt')\n",
    "hapaxSearch('BlahBleh.txt') # this is a file that contains the word blah many times and bleh one time"
   ]
  },
  {
   "cell_type": "markdown",
   "metadata": {},
   "source": [
    "3. Write a program that will calculate the average word length of a text stored in a file (i.e the sum of all the lengths of the word tokens in the text, divided by the number of word tokens). Apply it to a couple of books and compare them."
   ]
  },
  {
   "cell_type": "code",
   "execution_count": 56,
   "metadata": {},
   "outputs": [
    {
     "name": "stdout",
     "output_type": "stream",
     "text": [
      "4.0\n",
      "4.350640828749337\n",
      "4.403363931107129\n",
      "4.254542376706918\n"
     ]
    }
   ],
   "source": [
    "def wordLenAvg(filename): \n",
    "    text = cleanData(filename)\n",
    "    words = text.split()\n",
    "    numTokens = 0\n",
    "    numTimes = 0\n",
    "    for word in words: \n",
    "        numTokens += len(word)\n",
    "        numTimes += 1\n",
    "    return numTokens/numTimes\n",
    "        \n",
    "print(wordLenAvg('BlahBleh.txt'))\n",
    "\n",
    "print(wordLenAvg('data/gutenberg/testing/chesterton-brown.txt'))\n",
    "print(wordLenAvg('data/gutenberg/testing/milton-poetical.txt'))\n",
    "print(wordLenAvg('data/gutenberg/testing/shakespeare-macbeth.txt'))\n"
   ]
  },
  {
   "cell_type": "code",
   "execution_count": null,
   "metadata": {},
   "outputs": [],
   "source": []
  }
 ],
 "metadata": {
  "kernelspec": {
   "display_name": "Python 3",
   "language": "python",
   "name": "python3"
  },
  "language_info": {
   "codemirror_mode": {
    "name": "ipython",
    "version": 3
   },
   "file_extension": ".py",
   "mimetype": "text/x-python",
   "name": "python",
   "nbconvert_exporter": "python",
   "pygments_lexer": "ipython3",
   "version": "3.7.6"
  }
 },
 "nbformat": 4,
 "nbformat_minor": 2
}
