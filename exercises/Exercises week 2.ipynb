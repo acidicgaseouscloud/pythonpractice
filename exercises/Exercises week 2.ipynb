{
 "cells": [
  {
   "cell_type": "markdown",
   "metadata": {},
   "source": [
    "# Python exercises\n",
    "\n",
    "In the following exercises, you write a piece of code that takes variables as input, and does something with them. Define the variables taken as input at the start of your code, and print the result at the end:\n",
    "\n",
    "```python\n",
    "a = 12\n",
    "b = 21\n",
    "# do something with a and b\n",
    "print(result)\n",
    "```\n",
    "Put each exercise in a separate cell.\n",
    "\n",
    "Source: https://github.com/jivoi/junky/blob/master/python_simple_ex/README.md"
   ]
  },
  {
   "cell_type": "markdown",
   "metadata": {},
   "source": [
    "1. Write code that takes two numbers given as the variables `a` and `b` and prints the largest of them. Use the if-then-else construct available in Python. (It is true that Python has the `max()` function built in, but writing it yourself is nevertheless a good exercise)."
   ]
  },
  {
   "cell_type": "code",
   "execution_count": null,
   "metadata": {},
   "outputs": [],
   "source": [
    "a = int(input(\"Enter a number: \"))\n",
    "b = int(input(\"Enter another number: \"))\n",
    "\n",
    "if a>b: \n",
    "    print(a)\n",
    "else: \n",
    "    print(b)"
   ]
  },
  {
   "cell_type": "markdown",
   "metadata": {},
   "source": [
    "2. Write code that takes three numbers `a`, `b`, and `c`,  and prints the largest of them."
   ]
  },
  {
   "cell_type": "code",
   "execution_count": null,
   "metadata": {},
   "outputs": [],
   "source": [
    "a = int(input(\"Enter a number: \"))\n",
    "b = int(input(\"Enter another number: \"))\n",
    "c = int(input(\"Enter yet another number: \"))\n",
    "\n",
    "if a>b and a>c: \n",
    "    print(a)\n",
    "elif b>c: \n",
    "    print(b)\n",
    "else: \n",
    "    print(c)"
   ]
  },
  {
   "cell_type": "markdown",
   "metadata": {},
   "source": [
    "3. Write code that computes the length of a given list or string `seq`. (It is true that Python has the `len()` function built in, but writing it yourself is nevertheless a good exercise)."
   ]
  },
  {
   "cell_type": "code",
   "execution_count": null,
   "metadata": {},
   "outputs": [],
   "source": [
    "count = 0\n",
    "seq = input(\"Enter a string or a comma-separated list: \")\n",
    "finalSeq = seq\n",
    "\n",
    "# converts input to list\n",
    "if \", \" in seq: \n",
    "    finalSeq = seq.split(\", \")\n",
    "\n",
    "# adds 1 to counter for every element\n",
    "for x in finalSeq: \n",
    "    count += 1\n",
    "\n",
    "print(f\"The length of this item is: {count}\")\n"
   ]
  },
  {
   "cell_type": "markdown",
   "metadata": {},
   "source": [
    "4. Write code that takes a character `char` (i.e. a string of length 1) and prints `True` if it is a vowel, `False` otherwise."
   ]
  },
  {
   "cell_type": "code",
   "execution_count": null,
   "metadata": {},
   "outputs": [],
   "source": [
    "char = input(\"Enter a letter: \")\n",
    "vowels = [\"a\", \"e\", \"i\", \"o\", \"u\"] # list to compare if char is a vowel\n",
    "\n",
    "if char in vowels: \n",
    "    print(\"True\")\n",
    "else: \n",
    "    print(\"False\")"
   ]
  },
  {
   "cell_type": "markdown",
   "metadata": {},
   "source": [
    "5. Write code that will translate text given as `text` into \"rövarspråket\" (Swedish for \"robber's language\"). That is, double every consonant and place an occurrence of \"o\" in between. For example, `\"this is fun\"` should print the string `\"tothohisos isos fofunon\".`"
   ]
  },
  {
   "cell_type": "code",
   "execution_count": null,
   "metadata": {},
   "outputs": [],
   "source": [
    "text = input(\"Enter text: \")\n",
    "\n",
    "vowels = \"aeiou \" # used string instead of list, included \" \"\n",
    "\n",
    "robLang = \"\"\n",
    "\n",
    "for letter in text: \n",
    "    if letter not in vowels: \n",
    "        robLang += letter + \"o\" + letter # converts consonant to xox form\n",
    "    else: \n",
    "        robLang += letter # adds vowel directly to resulting string robLang \n",
    "\n",
    "print(robLang)"
   ]
  },
  {
   "cell_type": "markdown",
   "metadata": {},
   "source": [
    "6. Write code that sums and multiplies all the numbers in a list of numbers. For example, `[1, 2, 3, 4]` should print the sum `10`, and the product (multiplication) `24`."
   ]
  },
  {
   "cell_type": "code",
   "execution_count": null,
   "metadata": {},
   "outputs": [],
   "source": [
    "numbers = []\n",
    "enter = 0 \n",
    "\n",
    "while enter != \"done\":\n",
    "    enter = input(\"enter a number, type done when done: \")\n",
    "    if enter == \"done\": \n",
    "        continue\n",
    "    else: \n",
    "        enteredNum = float(enter) \n",
    "        numbers.append(enteredNum) # converted input to float and appended list\n",
    "\n",
    "summation = 0\n",
    "multiplication = 1 # used identities to define variables\n",
    "\n",
    "for number in numbers: \n",
    "    summation += number\n",
    "    multiplication *= number\n",
    "    \n",
    "print (summation, multiplication)"
   ]
  },
  {
   "cell_type": "markdown",
   "metadata": {},
   "source": [
    "7. Write code that takes a list of integers and prints a histogram to the screen.\n",
    "    For example, `[4, 9, 7]` should print the following:\n",
    "\n",
    "    ```\n",
    "    ****\n",
    "    *********\n",
    "    *******\n",
    "    ```"
   ]
  },
  {
   "cell_type": "code",
   "execution_count": null,
   "metadata": {},
   "outputs": [],
   "source": [
    "numbers = []\n",
    "enter = 0\n",
    "\n",
    "while enter != \"done\":\n",
    "    enter = input(\"enter a number, type done when done: \")\n",
    "    if enter == \"done\": \n",
    "        continue\n",
    "    else: \n",
    "        enteredNum = int(enter) # converts to int because floats like 2.5 cannot be multiplied to a sequence\n",
    "        numbers.append(enteredNum) #adds number to list\n",
    "\n",
    "for number in numbers: \n",
    "    print(\"*\"*number)\n"
   ]
  },
  {
   "cell_type": "markdown",
   "metadata": {},
   "source": [
    "8. Write a program that maps a list of words into a list of integers representing the lengths of the corresponding words. i.e. create a list with number of letters from the list with the letters."
   ]
  },
  {
   "cell_type": "code",
   "execution_count": null,
   "metadata": {},
   "outputs": [],
   "source": [
    "listWords = [\"buddy\", \"you're\", \"a\", \"boy\"]\n",
    "listNumLetters = []\n",
    "\n",
    "for word in listWords: \n",
    "    count = 0\n",
    "    for letter in word: \n",
    "        count+=1\n",
    "    listNumLetters.append(count) # adds count to resulting list\n",
    "    \n",
    "print(listNumLetters)\n",
    "    "
   ]
  },
  {
   "cell_type": "markdown",
   "metadata": {},
   "source": [
    "9. A pangram is a sentence that contains all the letters of the English alphabet at least once, for example: `\"The quick brown fox jumps over the lazy dog\"`. Your task here is to write code to check a sentence to see if it is a pangram or not."
   ]
  },
  {
   "cell_type": "code",
   "execution_count": null,
   "metadata": {},
   "outputs": [],
   "source": [
    "letters = [\"a\",\"b\",\"c\", \"d\", \"e\", \"f\", \"g\", \"h\", \"i\", \"j\", \"k\", \"l\", \"m\", \"n\", \"o\", \"p\", \"q\", \"r\", \"s\", \"t\", \"u\", \"v\", \"w\", \"x\", \"y\", \"z\"]\n",
    "\n",
    "sentence = input(\"Please enter a sentence: \")\n",
    "\n",
    "sentence1 = \"The quick brown fox jumps over the lazy dog\"\n",
    "sentence2 = \"I've paid my dues time after time\"\n",
    "\n",
    "pangram = True \n",
    "\n",
    "for letter in letters: \n",
    "    if letter in sentence: \n",
    "        continue\n",
    "    else: \n",
    "        pangram = False #reassigns value to false if letter not in sentence\n",
    "        break\n",
    "        \n",
    "if pangram == False: #prints result\n",
    "    print(\"Sentence is not a pangram\")\n",
    "else: \n",
    "    print(\"Sentence is a Pangram\")"
   ]
  },
  {
   "cell_type": "markdown",
   "metadata": {},
   "source": [
    "10. \"99 Bottles of Beer\" is a traditional song in the United States and Canada.\n",
    "    It is popular to sing on long trips, as it has a very repetitive format which is easy to memorize,\n",
    "    and can take a long time to sing. The song's simple lyrics are as follows:\n",
    "    ```\n",
    "    99 bottles of beer on the wall, 99 bottles of beer.\n",
    "    Take one down, pass it around, 98 bottles of beer on the wall.\n",
    "    ```\n",
    "    The same verse is repeated, each time with one fewer bottle. The song is completed when the singer or singers reach zero. Your task here is write a Python program that prints all the verses of the song."
   ]
  },
  {
   "cell_type": "code",
   "execution_count": null,
   "metadata": {},
   "outputs": [],
   "source": [
    "bottles = 99\n",
    "\n",
    "while bottles !=0: \n",
    "    if bottles == 1: \n",
    "        print(f\"{bottles} bottle of beer on the wall, {bottles} bottle of beer. \\n Take one down, pass it around, {bottles-1} bottles of beer on the wall.\")\n",
    "        bottles-=1\n",
    "    else: \n",
    "        print(f\"{bottles} bottles of beer on the wall, {bottles} bottles of beer. \\n Take one down, pass it around, {bottles-1} bottles of beer on the wall.\")\n",
    "        bottles -= 1\n"
   ]
  }
 ],
 "metadata": {
  "kernelspec": {
   "display_name": "Python 3",
   "language": "python",
   "name": "python3"
  },
  "language_info": {
   "codemirror_mode": {
    "name": "ipython",
    "version": 3
   },
   "file_extension": ".py",
   "mimetype": "text/x-python",
   "name": "python",
   "nbconvert_exporter": "python",
   "pygments_lexer": "ipython3",
   "version": "3.7.6"
  }
 },
 "nbformat": 4,
 "nbformat_minor": 2
}
