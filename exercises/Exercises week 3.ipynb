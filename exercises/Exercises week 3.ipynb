{
 "cells": [
  {
   "cell_type": "markdown",
   "metadata": {},
   "source": [
    "# Exercises week 3\n",
    "source: 1-4 taken from https://github.com/jivoi/junky/blob/master/python_simple_ex/README.md"
   ]
  },
  {
   "cell_type": "markdown",
   "metadata": {},
   "source": [
    "## 1. char_freq\n",
    "Write a function `char_freq()` that takes a string and builds a frequency listing\n",
    "   of the characters contained in it. Represent the frequency listing as a Python dictionary.\n",
    "   Try it with something like `char_freq(\"abbabcbdbabdbdbabababcbcbab\")`."
   ]
  },
  {
   "cell_type": "code",
   "execution_count": 28,
   "metadata": {},
   "outputs": [
    {
     "name": "stdout",
     "output_type": "stream",
     "text": [
      "{'f': 1, 'o': 2, 'd': 1}\n",
      "{'a': 7, 'b': 14, 'c': 3, 'd': 3}\n"
     ]
    }
   ],
   "source": [
    "def char_freq(string):\n",
    "    freq = dict()\n",
    "    for letter in string:\n",
    "        if letter not in freq: \n",
    "            freq[letter]=1\n",
    "        else:\n",
    "            freq[letter]+=1\n",
    "    print(freq)        \n",
    "    \n",
    "\n",
    "char_freq(\"food\")\n",
    "    \n",
    "char_freq(\"abbabcbdbabdbdbabababcbcbab\")\n",
    "    "
   ]
  },
  {
   "cell_type": "markdown",
   "metadata": {},
   "source": [
    "## 2. char_freq_table\n",
    "Write a function `char_freq_table()` that takes a string as argument, builds a frequency listing of the characters contained in it, and prints an alphabetically sorted and nicely formatted character frequency table to the screen.\n",
    "\n",
    "Hint: a simlpe way to format a table is to use `'\\t'` to insert a tab-character with variable length between the columns. A better way is to use f-strings, search for \"format width\" on http://zetcode.com/python/fstring/"
   ]
  },
  {
   "cell_type": "code",
   "execution_count": 36,
   "metadata": {},
   "outputs": [
    {
     "name": "stdout",
     "output_type": "stream",
     "text": [
      "a \t  7\n",
      "b \t 14\n",
      "c \t  3\n",
      "d \t  3\n"
     ]
    }
   ],
   "source": [
    "def char_freq_table(string):\n",
    "    freq = dict()\n",
    "    \n",
    "    for letter in string:\n",
    "        freq[letter]= freq.get(letter, 0) + 1\n",
    "        \n",
    "    alphaOrder = sorted(freq)\n",
    "    \n",
    "    for letter in alphaOrder: \n",
    "        print(f\"{letter:2}\\t{freq[letter]:3}\")\n",
    "\n",
    "\n",
    "char_freq_table(\"abbabcbdbabdbdbabababcbcbab\")\n",
    "    "
   ]
  },
  {
   "cell_type": "markdown",
   "metadata": {},
   "source": [
    "## 3. make_3sg_form\n",
    "The third person singular verb form in English is distinguished by the suffix `-s`, which is added to the stem of the infinitive form: `run` -> `runs`. A simple set of rules can be given as follows:\n",
    "\n",
    "   1. If the verb ends in `y`, remove it and add `ies`\n",
    "   2. If the verb ends in `o`, `ch`, `s`, `sh`, `x` or `z`, add `es`\n",
    "   3. By default just add `s`\n",
    "   \n",
    "   Your task in this exercise is to define a function `make_3sg_form()` which given a verb in infinitive form returns its third person singular form. Test your function with words like try, brush, run and fix. Note however that the rules must be regarded as heuristic, in the sense that you must not expect them to work for all cases. Tip: Check out the string method [.endswith()](https://docs.python.org/3/library/stdtypes.html#str.endswith)."
   ]
  },
  {
   "cell_type": "code",
   "execution_count": 52,
   "metadata": {},
   "outputs": [
    {
     "name": "stdout",
     "output_type": "stream",
     "text": [
      "tries\n",
      "brushes\n",
      "runs\n",
      "fixes\n",
      "tries\n",
      "brushes\n",
      "runs\n",
      "fixes\n"
     ]
    }
   ],
   "source": [
    "es = [\"o\",\"s\",\"x\",\"z\",\"ch\",\"sh\"]\n",
    "\n",
    "# for loop\n",
    "\n",
    "def make_3sg_form(word): \n",
    "    for x in es:\n",
    "        if x in word:\n",
    "            return(word+\"es\")\n",
    "    if word.endswith(\"y\"):\n",
    "        converted = word[:len(word)-1]\n",
    "        return(converted+\"ies\")\n",
    "    else: \n",
    "        return(word+\"s\")\n",
    "    \n",
    "print(make_3sg_form(\"try\"))\n",
    "print(make_3sg_form(\"brush\"))\n",
    "print(make_3sg_form(\"run\"))\n",
    "print(make_3sg_form(\"fix\"))\n",
    "\n",
    "# tuple\n",
    "\n",
    "es1 = (\"o\",\"s\",\"x\",\"z\",\"ch\",\"sh\")\n",
    "\n",
    "def make_3sg_form2(word): \n",
    "    if word.endswith(\"y\"):\n",
    "        converted = word[:len(word)-1]\n",
    "        return(converted+\"ies\")\n",
    "    elif word.endswith(es1):\n",
    "        return(word+\"es\")\n",
    "    else: \n",
    "        return(word+\"s\")\n",
    "\n",
    "print(make_3sg_form2(\"try\"))\n",
    "print(make_3sg_form2(\"brush\"))\n",
    "print(make_3sg_form2(\"run\"))\n",
    "print(make_3sg_form2(\"fix\"))"
   ]
  },
  {
   "cell_type": "markdown",
   "metadata": {},
   "source": [
    "## 4. make_ing_form\n",
    "In English, the present participle is formed by adding the suffix `-ing` to the infinite form: `go` -> `going`. A simple set of heuristic rules can be given as follows:\n",
    "\n",
    "   1. If the verb ends in `e`, drop the `e` and add `ing` (if not exception: be, see, flee, knee, etc.)\n",
    "   2. If the verb ends in `ie`, change `ie` to `y` and add `ing`\n",
    "   3. For words consisting of consonant-vowel-consonant, double the final letter before adding `ing`\n",
    "   4. By default just add `ing`\n",
    "\n",
    "   Your task in this exercise is to define a function `make_ing_form()` which given a verb in infinitive form returns its present participle form. Test your function with words such as lie, see, move and hug. However, you must not expect such simple rules to work for all cases."
   ]
  },
  {
   "cell_type": "code",
   "execution_count": 76,
   "metadata": {},
   "outputs": [
    {
     "name": "stdout",
     "output_type": "stream",
     "text": [
      "lying\n",
      "seeing\n",
      "moving\n",
      "hugging\n",
      "flooding\n"
     ]
    }
   ],
   "source": [
    "vowel = (\"a\",\"e\",\"i\", \"o\",\"u\")\n",
    "exceptions = [\"be\", \"see\", \"flee\", \"knee\", ]\n",
    "\n",
    "def make_ing_form(word):\n",
    "    if word.endswith(\"ie\"):\n",
    "        converted = word[:len(word)-2]+\"ying\"\n",
    "        return(converted)\n",
    "    elif word.endswith(\"e\") and word not in exceptions:\n",
    "        converted = word[:len(word)-1]+\"ing\"\n",
    "        return(converted)\n",
    "    elif word[-3] not in vowel and word[-2] in vowel and not word.endswith(vowel):\n",
    "        converted = word + word[-1] + \"ing\"\n",
    "        return(converted)\n",
    "    else: \n",
    "        return(word+\"ing\")\n",
    "    \n",
    "print(make_ing_form(\"lie\"))\n",
    "print(make_ing_form(\"see\"))\n",
    "print(make_ing_form(\"move\"))\n",
    "print(make_ing_form(\"hug\"))\n",
    "print(make_ing_form(\"flood\"))"
   ]
  },
  {
   "cell_type": "markdown",
   "metadata": {},
   "source": [
    "## 5. extract_dialogue\n",
    "You are given the an excerpt of Act I of\n",
    "[Shakespeare's Romeo and Juliet](http://www.gutenberg.org/ebooks/1112) in the variable `text`.\n",
    "Your mission, should you choose to accept it, is to extract lines of dialogue by each character. For a given character, we want to have all the lines spoken by the character in a list, so that we can later analyze each character separately.\n",
    "Your function `extract_dialogue(text)` should take a string such as the excerpt as argument and return a dictionary mapping names of characters to a list of their lines:\n",
    "   \n",
    "   `{'Samp': [\"Gregory, on my word, we'll not carry coals.\", ...], ...}`.\n",
    "   \n",
    "   Hints:\n",
    "   1. Note that lines in the excerpt are not necessarily \"lines\" of dialogue, some take up multiple lines in the excerpt due to wrapping. By splitting on two linebreaks `'\\n\\n'` you can identify paragraph breaks.\n",
    "   2. Except for some lines that are not dialogue which you have to skip over, most paragraphs now start with a character name. Find a way to separate the character and line. Check out the documentation of [.split()](https://docs.python.org/3/library/stdtypes.html#str.split) for helpful optional parameters.\n",
    "   3. Collect the resulting lines in a dictionary. For each character, check if it's not yet in the dictionary and add an empty list if not. Then, append the line of dialogue."
   ]
  },
  {
   "cell_type": "code",
   "execution_count": 6,
   "metadata": {},
   "outputs": [],
   "source": [
    "text = \"\"\"ACT I. Scene I.\n",
    "Verona. A public place.\n",
    "\n",
    "Enter Sampson and Gregory (with swords and bucklers) of the house\n",
    "of Capulet.\n",
    "\n",
    "\n",
    "  Samp. Gregory, on my word, we'll not carry coals.\n",
    "\n",
    "  Greg. No, for then we should be colliers.\n",
    "\n",
    "  Samp. I mean, an we be in choler, we'll draw.\n",
    "\n",
    "  Greg. Ay, while you live, draw your neck out of collar.\n",
    "\n",
    "  Samp. I strike quickly, being moved.\n",
    "\n",
    "  Greg. But thou art not quickly moved to strike.\n",
    "\n",
    "  Samp. A dog of the house of Montague moves me.\n",
    "\n",
    "  Greg. To move is to stir, and to be valiant is to stand.\n",
    "    Therefore, if thou art moved, thou runn'st away.\n",
    "\n",
    "  Samp. A dog of that house shall move me to stand. I will take\n",
    "    the wall of any man or maid of Montague's.\n",
    "\n",
    "  Greg. That shows thee a weak slave; for the weakest goes to the\n",
    "    wall.\n",
    "\n",
    "  Samp. 'Tis true; and therefore women, being the weaker vessels,\n",
    "    are ever thrust to the wall. Therefore I will push Montague's men\n",
    "    from the wall and thrust his maids to the wall.\n",
    "\n",
    "  Greg. The quarrel is between our masters and us their men.\n",
    "\n",
    "  Samp. 'Tis all one. I will show myself a tyrant. When I have\n",
    "    fought with the men, I will be cruel with the maids- I will cut off\n",
    "    their heads.\n",
    "\n",
    "  Greg. The heads of the maids?\n",
    "\n",
    "  Samp. Ay, the heads of the maids, or their maidenheads.\n",
    "    Take it in what sense thou wilt.\n",
    "\n",
    "  Greg. They must take it in sense that feel it.\n",
    "\n",
    "  Samp. Me they shall feel while I am able to stand; and 'tis known I\n",
    "    am a pretty piece of flesh.\n",
    "\n",
    "  Greg. 'Tis well thou art not fish; if thou hadst, thou hadst\n",
    "    been poor-John. Draw thy tool! Here comes two of the house of\n",
    "    Montagues.\n",
    "\n",
    "           Enter two other Servingmen [Abram and Balthasar].\n",
    "\n",
    "\n",
    "  Samp. My naked weapon is out. Quarrel! I will back thee.\n",
    "\n",
    "  Greg. How? turn thy back and run?\n",
    "\n",
    "  Samp. Fear me not.\n",
    "\n",
    "  Greg. No, marry. I fear thee!\n",
    "\n",
    "  Samp. Let us take the law of our sides; let them begin.\n",
    "\n",
    "  Greg. I will frown as I pass by, and let them take it as they list.\n",
    "\n",
    "  Samp. Nay, as they dare. I will bite my thumb at them; which is\n",
    "    disgrace to them, if they bear it.\n",
    "\n",
    "  Abr. Do you bite your thumb at us, sir?\n",
    "\n",
    "  Samp. I do bite my thumb, sir.\n",
    "\n",
    "  Abr. Do you bite your thumb at us, sir?\n",
    "\n",
    "  Samp. [aside to Gregory] Is the law of our side if I say ay?\n",
    "\n",
    "  Greg. [aside to Sampson] No.\n",
    "\n",
    "  Samp. No, sir, I do not bite my thumb at you, sir; but I bite my\n",
    "    thumb, sir.\n",
    "\n",
    "  Greg. Do you quarrel, sir?\n",
    "\n",
    "  Abr. Quarrel, sir? No, sir.\n",
    "\n",
    "  Samp. But if you do, sir, am for you. I serve as good a man as\n",
    "    you.\n",
    "\n",
    "  Abr. No better.\n",
    "\n",
    "  Samp. Well, sir.\"\"\""
   ]
  },
  {
   "cell_type": "code",
   "execution_count": 102,
   "metadata": {},
   "outputs": [
    {
     "name": "stdout",
     "output_type": "stream",
     "text": [
      "{'Samp': [\" Gregory, on my word, we'll not carry coals.\", \" I mean, an we be in choler, we'll draw.\", ' I strike quickly, being moved.', ' A dog of the house of Montague moves me.', \" A dog of that house shall move me to stand. I will take\\n    the wall of any man or maid of Montague's.\", \" 'Tis true; and therefore women, being the weaker vessels,\\n    are ever thrust to the wall. Therefore I will push Montague's men\\n    from the wall and thrust his maids to the wall.\", \" 'Tis all one. I will show myself a tyrant. When I have\\n    fought with the men, I will be cruel with the maids- I will cut off\\n    their heads.\", ' Ay, the heads of the maids, or their maidenheads.\\n    Take it in what sense thou wilt.', \" Me they shall feel while I am able to stand; and 'tis known I\\n    am a pretty piece of flesh.\", ' My naked weapon is out. Quarrel! I will back thee.', ' Fear me not.', ' Let us take the law of our sides; let them begin.', ' Nay, as they dare. I will bite my thumb at them; which is\\n    disgrace to them, if they bear it.', ' I do bite my thumb, sir.', ' [aside to Gregory] Is the law of our side if I say ay?', ' No, sir, I do not bite my thumb at you, sir; but I bite my\\n    thumb, sir.', ' But if you do, sir, am for you. I serve as good a man as\\n    you.', ' Well, sir.'], 'Greg': [' No, for then we should be colliers.', ' Ay, while you live, draw your neck out of collar.', ' But thou art not quickly moved to strike.', \" To move is to stir, and to be valiant is to stand.\\n    Therefore, if thou art moved, thou runn'st away.\", ' That shows thee a weak slave; for the weakest goes to the\\n    wall.', ' The quarrel is between our masters and us their men.', ' The heads of the maids?', ' They must take it in sense that feel it.', \" 'Tis well thou art not fish; if thou hadst, thou hadst\\n    been poor-John. Draw thy tool! Here comes two of the house of\\n    Montagues.\", ' How? turn thy back and run?', ' No, marry. I fear thee!', ' I will frown as I pass by, and let them take it as they list.', ' [aside to Sampson] No.', ' Do you quarrel, sir?'], 'Abr': [' Do you bite your thumb at us, sir?', ' Do you bite your thumb at us, sir?', ' Quarrel, sir? No, sir.', ' No better.']}\n"
     ]
    }
   ],
   "source": [
    "\n",
    "def extract_dialogue(text): \n",
    "    lines = text.split(\"\\n\\n\")\n",
    "    diags = []\n",
    "    for line in lines:\n",
    "        if line[1] == \" \" and line[3]!=\" \": #removes lines with no space in third place, i.e. just dialogues\n",
    "            diags += [line]\n",
    "    nameDiag = []\n",
    "    for diag in diags: \n",
    "        nameDiag += [diag.split(\".\",1)] #splits dialogues into name and dialogue\n",
    "    characters = {}\n",
    "    for name,diag in nameDiag: #adds name and diag to dictionary \n",
    "        key = name.strip() \n",
    "        characters[key] = characters.get(key, []) + [diag] \n",
    "    print(characters)\n",
    "            \n",
    "extract_dialogue(text)\n"
   ]
  },
  {
   "cell_type": "code",
   "execution_count": null,
   "metadata": {},
   "outputs": [],
   "source": []
  }
 ],
 "metadata": {
  "kernelspec": {
   "display_name": "Python 3",
   "language": "python",
   "name": "python3"
  },
  "language_info": {
   "codemirror_mode": {
    "name": "ipython",
    "version": 3
   },
   "file_extension": ".py",
   "mimetype": "text/x-python",
   "name": "python",
   "nbconvert_exporter": "python",
   "pygments_lexer": "ipython3",
   "version": "3.7.6"
  }
 },
 "nbformat": 4,
 "nbformat_minor": 2
}
