{
 "cells": [
  {
   "cell_type": "markdown",
   "metadata": {},
   "source": [
    "# Coding for Humanities final exam 2020\n",
    "\n",
    "Rules:\n",
    "\n",
    "- You should work alone. Do NOT discuss the exam with anyone until after the deadline. Identical answers will be reported to the board of examiners.\n",
    "- You may look up any information you want (including re-using code from the labs or lectures, or using code you find online as inspiration), but don't copy-paste code without understanding it.\n",
    "- You should only use Python concepts that have been covered in the course slides and notebooks. (Note: The book contains some concepts that have NOT been covered; don't use those; this also goes for code you find online).\n",
    "- Partial credit will be assigned. Try to get as far as you can even if you cannot completely solve a problem. If you did not manage to solve a previous subquestion, write the code as if you did manage to solve that subquestion. If you are asked to summarize results but your code doesn't work, explain what results you expect to get and why.\n",
    "- Your solutions are graded for:\n",
    "  - whether your code works correctly in all cases,\n",
    "  - whether your summary of the results is complete and correct,\n",
    "  - code style (meaningful variable names, succinct & elegant code)"
   ]
  },
  {
   "cell_type": "code",
   "execution_count": 206,
   "metadata": {},
   "outputs": [],
   "source": [
    "# Moved all module imports to here\n",
    "import os\n",
    "from os.path import basename # imported basename to remove directories from filename\n",
    "import glob\n",
    "import nltk\n",
    "import pandas as pd\n",
    "import seaborn as sns"
   ]
  },
  {
   "cell_type": "code",
   "execution_count": 207,
   "metadata": {},
   "outputs": [],
   "source": [
    "# Code to read and open files: \n",
    "def read_file(filename):\n",
    "    with open(filename, encoding='utf8') as infile:\n",
    "        contents = infile.read()\n",
    "    return contents"
   ]
  },
  {
   "cell_type": "markdown",
   "metadata": {},
   "source": [
    "|Line Number| Code | Explanation|\n",
    "|---|---|---|\n",
    "|2.|`def read_file(filename):` |Uses keyword `def` to define function `read_file()` with one parameter: `filename`.|\n",
    "|3.|`    with open(filename, encoding='utf8') as infile:` |key word with will close the file afterwards, open opens the file in default read mode and specifies that the file is encoded in utf8|\n",
    "|4.|`        contents = infile.read()`|reads the file and stores its contents in the `contents` variable as a string|\n",
    "|5.|`    return contents`|Returns the contents (str) of the file|"
   ]
  },
  {
   "cell_type": "code",
   "execution_count": 208,
   "metadata": {},
   "outputs": [],
   "source": [
    "# Code to Pre-process text: \n",
    "def preProcess(text):\n",
    "    return [token.lower() for token in nltk.word_tokenize(text)]"
   ]
  },
  {
   "cell_type": "markdown",
   "metadata": {},
   "source": [
    "|Line Number| Code | Explanation|\n",
    "|---|---|---|\n",
    "|2.|`def preProcess(text):` |Uses keyword `def` to define function `preProcess()` with one parameter: `text` (str).|\n",
    "|3.|`    return [token.lower() for token in nltk.word_tokenize(text)]` |Returns a list of tokens in lower case.|"
   ]
  },
  {
   "cell_type": "markdown",
   "metadata": {},
   "source": [
    "## 1. Imitation is the sincerest form of flattery (5pts)\n",
    "\n",
    "When Melania Trump gave a speech at the Republican National Convention in 2016, [commentators noted several striking similarities](https://www.npr.org/2016/07/19/486560186/section-of-melania-trumps-monday-speech-closely-imitates-michelle-obama-in-2008) with the speech of Michelle Obama at the 2008 Democratic National Convention. In this question, we will inspect and measure the similarity between the two speeches. For comparison, we will also look at the speech of Laura Bush at the Republican National Convention in 2004, to contrast the results of suspected plagiarism (Melania) with original works (Michelle, Laura). The following files are provided in the directory `finaldata/`:\n",
    "\n",
    "- `laura.txt`: [2004 RNC speech](https://www.foxnews.com/transcript/first-lady-laura-bush-in-the-rnc-spotlight) by Laura Bush\n",
    "- `michelle.txt`: [2008 DNC speech](https://www.npr.org/templates/story/story.php?storyId=93963863) by Michelle Obama\n",
    "- `melania.txt`: [2016 RNC speech](https://time.com/4412008/republican-convention-melania-trump-2/) by Melania Trump\n",
    "\n",
    "a. Create a function `readtexts(pattern)` that reads text files specified by a `glob` pattern and returns the preprocessed texts in a dictionary. Each key in the dictionary should be a filename without directories, and the value should be a list of lowercased tokens in that file."
   ]
  },
  {
   "cell_type": "code",
   "execution_count": 209,
   "metadata": {},
   "outputs": [
    {
     "name": "stdout",
     "output_type": "stream",
     "text": [
      "True\n",
      "True\n",
      "True\n"
     ]
    }
   ],
   "source": [
    "# Your code here\n",
    "\n",
    "def readtexts(pattern):\n",
    "    corpus = {}\n",
    "    for filepath in glob.glob(pattern):\n",
    "        text = read_file(filepath)\n",
    "        corpus[basename(filepath)] = preProcess(text)\n",
    "    return corpus\n",
    "\n",
    "# Checking the first 10 tokens of each text (should print True):\n",
    "speech = readtexts('finaldata/*.txt')\n",
    "print(speech['melania.txt'][:10] == ['thank', 'you', '.', 'thank', 'you', 'very', 'much', '.', 'you', 'have'])\n",
    "print(speech['laura.txt'][:10] == ['thanks', ',', 'everybody', '.', 'thank', 'you', 'all', 'so', 'much', '.'])\n",
    "print(speech['michelle.txt'][:10] == ['as', 'you', 'might', 'imagine', ',', 'for', 'barack', ',', 'running', 'for'])"
   ]
  },
  {
   "cell_type": "markdown",
   "metadata": {},
   "source": [
    "|Line Number| Code | Explanation|\n",
    "|---|---|---|\n",
    "|3.|`def readtexts(pattern):`|Uses `def` keyword to define function `readtexts()` with one parameter `pattern` (str)|\n",
    "|4.|`    corpus = {}`|Creates empty dictionary in which we store the content of the files|\n",
    "|5.|`    for filepath in glob.glob(pattern):`|Iterates over all the filepaths (list) returned by `glob.glob()`|\n",
    "|6.|`        text = read_file(filepath)`|Uses the `read_file()` function defined above to read the files|\n",
    "|7.|`        corpus[basename(filepath)] = preProcess(text)`|Creates a new key that is the name of the file without directories and with the value of the tokenized and lowered contents of the file|\n",
    "|8.|`    return corpus`|returns the dictionary with the results|"
   ]
  },
  {
   "cell_type": "markdown",
   "metadata": {},
   "source": [
    "A naive way of measuring text similarity is looking at overlapping vocabulary. If two speeches both contain a rare word such as \"[supercalifragilisticexpialidocious](https://en.wikipedia.org/wiki/Supercalifragilisticexpialidocious)\", that looks very suspicious. However, most words in texts are frequent. It is more effective to look at specific combinations of words. If a speech contains the words ``Ask not what your country can do for you``, it is almost certainly referencing or borrowing from John F. Kennedy's inaugural address, even though each of the individual words is very common. On the other hand, ``Good evening ladies and gentlemen`` is such a common expression that it has to be considered a false alarm and not evidence of plagiarism. Therefore automatic tools may be helpful in identifying similarities, but the results always need to be interpreted manually.\n",
    "\n",
    "We will extract sequences of tokens (i.e., phrases) from the texts. Sequences of consecutive tokens are called n-grams, where n is a number indicating the number of tokens. NLTK has a function to generate all n-grams in a list of tokens. For example:\n",
    "\n",
    "```python\n",
    "tokens = 'the cat is on the mat'.split()\n",
    "print(list(nltk.ngrams(tokens, 1)))\n",
    "print(list(nltk.ngrams(tokens, 2)))\n",
    "print(list(nltk.ngrams(tokens, 3)))\n",
    "```\n",
    "Gives:\n",
    "```\n",
    "[('the',), ('cat',), ('is',), ('on',), ('the',), ('mat',)]\n",
    "[('the', 'cat'), ('cat', 'is'), ('is', 'on'), ('on', 'the'), ('the', 'mat')]\n",
    "[('the', 'cat', 'is'), ('cat', 'is', 'on'), ('is', 'on', 'the'), ('on', 'the', 'mat')]\n",
    "```\n",
    "\n",
    "As you can see above, the `nltk.ngrams` function returns n-grams as tuples of strings, e.g., `('the', 'cat')`. It's easier to read the n-grams if they are represented as strings, e.g., `'the cat'`, so we will convert the n-grams to this format.\n",
    "\n",
    "b. Create a function `get_ngrams(tokens, n)`, which takes a list of tokens, and returns a list of n-grams, formatted as strings."
   ]
  },
  {
   "cell_type": "code",
   "execution_count": 188,
   "metadata": {},
   "outputs": [
    {
     "name": "stdout",
     "output_type": "stream",
     "text": [
      "True\n",
      "['the cat', 'cat is', 'is on', 'on the', 'the mat']\n"
     ]
    }
   ],
   "source": [
    "# Your code here\n",
    "\n",
    "def get_ngrams(tokens, n): \n",
    "    result = []\n",
    "    for tupe in nltk.ngrams(tokens, n): \n",
    "        result.append(' '.join(tupe))\n",
    "    return result    \n",
    "\n",
    "\n",
    "# Test (should print True)\n",
    "print(get_ngrams(['the', 'cat', 'is', 'on', 'the', 'mat'], 2)\n",
    "     == ['the cat', 'cat is', 'is on', 'on the', 'the mat'])\n",
    "\n",
    "print(get_ngrams(['the', 'cat', 'is', 'on', 'the', 'mat'], 2))"
   ]
  },
  {
   "cell_type": "markdown",
   "metadata": {},
   "source": [
    "|Line Number| Code | Explanation|\n",
    "|---|---|---|\n",
    "|3.|`def get_ngrams(tokens, n):`|Uses keyword `def` to create function `get_ngrams()` with 2 variables `tokens` (list) and `n` (int)|\n",
    "|4.|`    result = []`|Creates an empty list to store the result in|\n",
    "|5.|`    for tupe in nltk.ngrams(tokens, n): `|Iterates over the list of tuples returned by `nltk.ngrams()`|\n",
    "|6.|`        result.append(' '.join(tupe))`|Appends the phrases (str) formed after joining the tuple items with a `' '`|\n",
    "|7.|`    return result`|returns a list of phrases |"
   ]
  },
  {
   "cell_type": "markdown",
   "metadata": {},
   "source": [
    "Now that we can extract n-grams from texts, we can identify n-grams that occur in two texts, which may be evidence of re-use. Using `set()`, we can reduce a list of n-grams to unique n-grams. This has the additional advantage that we can use the `&` operator ('intersection') to find the overlapping items efficiently:\n",
    "\n",
    "```python\n",
    "a = ['a', 'b', 'c']\n",
    "b = ['b', 'c', 'd']\n",
    "print(set(a) & set(b))\n",
    "```\n",
    "Gives: ``{'b', 'c'}``\n",
    "\n",
    "c. Create a function `common_ngrams(tokens1, tokens2, n)` that given two lists of tokens and a number `n`, computes the n-grams for the lists of tokens, and returns the set of n-grams they have in common. Use the function `get_ngrams` you created in 1b."
   ]
  },
  {
   "cell_type": "code",
   "execution_count": 189,
   "metadata": {},
   "outputs": [
    {
     "name": "stdout",
     "output_type": "stream",
     "text": [
      "True\n"
     ]
    }
   ],
   "source": [
    "# Your code here\n",
    "\n",
    "def common_ngrams(tokens1, tokens2, n): \n",
    "    return set(get_ngrams(tokens1, n)) & set(get_ngrams(tokens2, n))\n",
    "\n",
    "\n",
    "# Test (should print True)\n",
    "sent1 = ['the', 'cat', 'sat', 'on', 'the', 'mat']\n",
    "sent2 = ['the', 'cat', 'is', 'purring']\n",
    "print(common_ngrams(sent1, sent2, 2) == {'the cat'})"
   ]
  },
  {
   "cell_type": "markdown",
   "metadata": {},
   "source": [
    "|Line Number| Code | Explanation|\n",
    "|---|---|---|\n",
    "|3.|`def common_ngrams(tokens1, tokens2, n): `|Uses `def` keyword to define function `common_ngrams()` with 3 parameters `tokens1` (list), `tokens2` (list), and `n` (int)|\n",
    "|4.|`    return set(get_ngrams(tokens1, n)) & set(get_ngrams(tokens2, n))`|Calculates the n-grams for both tokens lists and returns the set of common n-grams (as specified by the input `n`) between the two lists|"
   ]
  },
  {
   "cell_type": "markdown",
   "metadata": {},
   "source": [
    "d. Apply the function from 1c to the speeches of Laura Bush, Michelle Obama, and Melania Trump, which you read into a dictionary in question 1a. Use the value 6 for `n`; i.e., we want to see all phrases of 6 tokens the speeches have in common. Print the results of comparing the speeches of Laura vs Meliana, Laura vs Michelle, and finally Michelle vs Melania. For each pair of speeches, summarize in a single sentence whether you find evidence of borrowed phrases."
   ]
  },
  {
   "cell_type": "code",
   "execution_count": 190,
   "metadata": {},
   "outputs": [
    {
     "name": "stdout",
     "output_type": "stream",
     "text": [
      "Common phrases between Laura Bush and Michelle Obama: {', and god bless america .', 'bless you , and god bless', 'god bless you , and god', 'you , and god bless america'}\n",
      "Common phrases between Melania Trump and Laura Bush : set()\n",
      "Common phrases between Melania Trump and Michelle Obama: {'work hard for what you want', 'your willingness to work for them', 'willingness to work for them .', 'you work hard for what you', 'of your dreams and your willingness', 'your word is your bond and', 'that your word is your bond', 'your dreams and your willingness to', 'know that the only limit to', 'and you do what you say', 'is your bond and you do', 'hard for what you want in', 'that you work hard for what', 'for what you want in life', 'to know that the only limit', 'your bond and you do what', 'dreams and your willingness to work', 'bond and you do what you', 'word is your bond and you', 'and your willingness to work for'}\n"
     ]
    }
   ],
   "source": [
    "# Your code here\n",
    "print(\"Common phrases between Laura Bush and Michelle Obama:\", common_ngrams(speech['laura.txt'], speech['michelle.txt'], 6))\n",
    "print(\"Common phrases between Melania Trump and Laura Bush :\", common_ngrams(speech['melania.txt'], speech['laura.txt'], 6))\n",
    "print(\"Common phrases between Melania Trump and Michelle Obama:\", common_ngrams(speech['melania.txt'], speech['michelle.txt'], 6))\n",
    "\n",
    "# Your summary here\n",
    "\n",
    "# Laura Bush and Michelle Obama use some common phrases like \"God bless America\" \n",
    "# and \"Bless you\" possibly because they are both religious. \n",
    "\n",
    "# Surprisingly, Melania Trump and Laura Bush did not have any phrases in common. \n",
    "\n",
    "# Melania Trump and Michelle Obama, both emphasise working hard for your dreams \n",
    "# and that \"your word is your bond\" but I am unsure whether it is really grounds for plagiarism \n",
    "# as they seem like fairly American values, however, they do have a lot of exact phrases in common. \n"
   ]
  },
  {
   "cell_type": "markdown",
   "metadata": {},
   "source": [
    "In questions 1d we have looked at 6-grams (n-grams of length 6). Now we want to look at shorter and longer sequences.\n",
    "\n",
    "e. Compute all the common n-grams from n=1 to n=10 for all pairs of texts. Make a Pandas DataFrame with the following columns: `['melania & michelle', 'melania & laura', 'michelle & laura']`. The row labels should be the `n` values (1 to 10). The content of DataFrame should be the number of common n-grams for a given `n` and a pair of texts.\n",
    "\n",
    "For instance, for the column `'melania & michelle'`, row n=5, the value should be the result of `len(common_ngrams(speech['michelle.txt'], speech['melania.txt'], 5))`\n",
    "\n",
    "Create the DataFrame using a dictionary as shown in the slides of week 7. Summarize in a single sentence whether the result of 1d is confirmed for longer and shorter phrases."
   ]
  },
  {
   "cell_type": "code",
   "execution_count": 191,
   "metadata": {},
   "outputs": [],
   "source": [
    "# Your code here\n",
    "\n",
    "rows = list(range(1,11))\n",
    "\n",
    "def NumCommonNgrams1to10(tokens1, tokens2):\n",
    "    result = []\n",
    "    for number in rows: \n",
    "        result.append(len(common_ngrams(tokens1, tokens2, number)))\n",
    "    return result"
   ]
  },
  {
   "cell_type": "markdown",
   "metadata": {},
   "source": [
    "|Line Number| Code | Explanation|\n",
    "|---|---|---|\n",
    "|3.|`rows = list(range(1,11))`|Defines the new index for the dataframe as a list|\n",
    "|5.|`def NumCommonNgrams1to10(tokens1, tokens2):`|Uses the `def` keyword to define function `NumCommonNgrams1to10()` with 2 parameters `tokens1` (list), `tokens2` (list)|\n",
    "|6.|`    result = []`|Creates an empty list to store the result in|\n",
    "|7.|`    for number in rows: `|Iterates over the values in rows|    \n",
    "|8.|`        result.append(len(common_ngrams(tokens1, tokens2, number)))`|Appends the length of the set of common n-grams in the 2 tokens list as divided by the current number to result|    \n",
    "|9.|`    return result`|Returns the list of lengths i.e. result| \n"
   ]
  },
  {
   "cell_type": "code",
   "execution_count": 192,
   "metadata": {},
   "outputs": [],
   "source": [
    "NumCommonNgrams = {} # creates empty dictionary\n",
    "\n",
    "# Assigning values for each key (later converted to column)\n",
    "\n",
    "NumCommonNgrams['melania & michelle'] = NumCommonNgrams1to10(speech['melania.txt'], speech['michelle.txt'])\n",
    "NumCommonNgrams['melania & laura'] = NumCommonNgrams1to10(speech['melania.txt'], speech['laura.txt'])\n",
    "NumCommonNgrams['michelle & laura'] = NumCommonNgrams1to10(speech['michelle.txt'], speech['laura.txt'])"
   ]
  },
  {
   "cell_type": "code",
   "execution_count": 193,
   "metadata": {},
   "outputs": [
    {
     "data": {
      "text/html": [
       "<div>\n",
       "<style scoped>\n",
       "    .dataframe tbody tr th:only-of-type {\n",
       "        vertical-align: middle;\n",
       "    }\n",
       "\n",
       "    .dataframe tbody tr th {\n",
       "        vertical-align: top;\n",
       "    }\n",
       "\n",
       "    .dataframe thead th {\n",
       "        text-align: right;\n",
       "    }\n",
       "</style>\n",
       "<table border=\"1\" class=\"dataframe\">\n",
       "  <thead>\n",
       "    <tr style=\"text-align: right;\">\n",
       "      <th></th>\n",
       "      <th>melania &amp; michelle</th>\n",
       "      <th>melania &amp; laura</th>\n",
       "      <th>michelle &amp; laura</th>\n",
       "    </tr>\n",
       "  </thead>\n",
       "  <tbody>\n",
       "    <tr>\n",
       "      <th>1</th>\n",
       "      <td>226</td>\n",
       "      <td>226</td>\n",
       "      <td>280</td>\n",
       "    </tr>\n",
       "    <tr>\n",
       "      <th>2</th>\n",
       "      <td>227</td>\n",
       "      <td>195</td>\n",
       "      <td>272</td>\n",
       "    </tr>\n",
       "    <tr>\n",
       "      <th>3</th>\n",
       "      <td>86</td>\n",
       "      <td>44</td>\n",
       "      <td>71</td>\n",
       "    </tr>\n",
       "    <tr>\n",
       "      <th>4</th>\n",
       "      <td>45</td>\n",
       "      <td>9</td>\n",
       "      <td>22</td>\n",
       "    </tr>\n",
       "    <tr>\n",
       "      <th>5</th>\n",
       "      <td>29</td>\n",
       "      <td>3</td>\n",
       "      <td>9</td>\n",
       "    </tr>\n",
       "    <tr>\n",
       "      <th>6</th>\n",
       "      <td>20</td>\n",
       "      <td>0</td>\n",
       "      <td>4</td>\n",
       "    </tr>\n",
       "    <tr>\n",
       "      <th>7</th>\n",
       "      <td>16</td>\n",
       "      <td>0</td>\n",
       "      <td>3</td>\n",
       "    </tr>\n",
       "    <tr>\n",
       "      <th>8</th>\n",
       "      <td>12</td>\n",
       "      <td>0</td>\n",
       "      <td>2</td>\n",
       "    </tr>\n",
       "    <tr>\n",
       "      <th>9</th>\n",
       "      <td>9</td>\n",
       "      <td>0</td>\n",
       "      <td>1</td>\n",
       "    </tr>\n",
       "    <tr>\n",
       "      <th>10</th>\n",
       "      <td>6</td>\n",
       "      <td>0</td>\n",
       "      <td>0</td>\n",
       "    </tr>\n",
       "  </tbody>\n",
       "</table>\n",
       "</div>"
      ],
      "text/plain": [
       "    melania & michelle  melania & laura  michelle & laura\n",
       "1                  226              226               280\n",
       "2                  227              195               272\n",
       "3                   86               44                71\n",
       "4                   45                9                22\n",
       "5                   29                3                 9\n",
       "6                   20                0                 4\n",
       "7                   16                0                 3\n",
       "8                   12                0                 2\n",
       "9                    9                0                 1\n",
       "10                   6                0                 0"
      ]
     },
     "execution_count": 193,
     "metadata": {},
     "output_type": "execute_result"
    }
   ],
   "source": [
    "df = pd.DataFrame.from_dict(NumCommonNgrams) \n",
    "df.index = rows\n",
    "\n",
    "df\n",
    "\n",
    "# Your summary here\n",
    "\n",
    "# For shorter phrases, all speeches have a lot in common, however for longer \n",
    "# phrases the simliarity is lost, except for the case of Melania Trump and Michelle Obama. \n",
    "# Although I was unsure of the results of the analysis in 1d, the analysis done in 1e shows \n",
    "# that Melania's speech contains entire phrases from the speech of Michelle Obama."
   ]
  },
  {
   "cell_type": "markdown",
   "metadata": {},
   "source": [
    "|Line Number| Code | Explanation|\n",
    "|---|---|---|\n",
    "|1.|`df = pd.DataFrame.from_dict(NumCommonNgrams) `|Converts the numCommonNgrams dictionary to a pandas dataframe|\n",
    "|2.|`df.index = rows`|Assigns a new index to the dataframe to refer to the number of tokens considered consecutively|"
   ]
  },
  {
   "cell_type": "markdown",
   "metadata": {},
   "source": [
    "## 2. Swearing in literature (4pts)\n",
    "\n",
    "In this question we will work with a dataset of English-language literature. The dataset consists of a table with books as rows. The columns contain metadata (author name, publication year, etc) and results from a tool called [LIWC](https://liwc.wpengine.com/), which stands for Linguistic Inquiry and Word Counts. LIWC counts words in specific categories, and returns the result as a percentage. For example, if a book has a score of `1.23` for `'PositiveEmotion'`, that means that 1.23% of the words in that book consists of positive emotion words.\n",
    "\n",
    "a. Read the dataset ``finaldata/english_metadata_and_liwc.csv`` into a Pandas DataFrame. In the column `'Sex'`, the value `1` means `male`, while `2` means `female`; replace the numbers such that values in the `'Sex'` column are the strings `male` and `female` instead of `1` and `2`, respectively. Finally, rename the `'Sex'` column to `'Gender'`."
   ]
  },
  {
   "cell_type": "code",
   "execution_count": 210,
   "metadata": {},
   "outputs": [],
   "source": [
    "# Your code here\n",
    "df = pd.read_csv('finaldata/english_metadata_and_liwc.csv')\n",
    "\n",
    "sexReplace = {1:'male', 2:'female'}\n",
    "df = df.replace({'Sex': sexReplace})\n",
    "\n",
    "df = df.rename(columns={'Sex': 'Gender'})"
   ]
  },
  {
   "cell_type": "markdown",
   "metadata": {},
   "source": [
    "|Line Number| Code | Explanation|\n",
    "|---|---|---|\n",
    "|2.|`df = pd.read_csv('finaldata/english_metadata_and_liwc.csv')`|Stores the contents of file as a pandas dataframe|\n",
    "|4.|`sexReplace = {1:'male', 2:'female'}`|Creates a dictionary with the values to be replaced and the new values|\n",
    "|5.|`df = df.replace({'Sex': sexReplace})`|Replaces the old values with the new values|\n",
    "|7.|`df = df.rename(columns={'Sex': 'Gender'})`|Renames the 'Sex' column to 'Gender'|"
   ]
  },
  {
   "cell_type": "markdown",
   "metadata": {},
   "source": [
    "b. Make a box plot with `'Age'` on the x-axis, and `'Gender'` on the y-axis. Summarize the difference in one sentence."
   ]
  },
  {
   "cell_type": "code",
   "execution_count": 200,
   "metadata": {},
   "outputs": [
    {
     "data": {
      "image/png": "[encoded data removed]",
      "text/plain": [
       "<Figure size 432x288 with 1 Axes>"
      ]
     },
     "metadata": {
      "needs_background": "light"
     },
     "output_type": "display_data"
    }
   ],
   "source": [
    "# Your code here\n",
    "\n",
    "sns.boxplot(x='Age', y='Gender', data=df, orient = 'h');\n",
    "\n",
    "# Your summary here\n",
    "# Male authors tend to be younger than female authors.\n"
   ]
  },
  {
   "cell_type": "markdown",
   "metadata": {},
   "source": [
    "|Line Number| Code | Explanation|\n",
    "|---|---|---|\n",
    "|3.|`sns.boxplot(x='Age', y='Gender', data=df, orient = 'h') `|plots a boxplot divided by `Gender` (y-axis) with `Age` (x-axis) and orients the figure horizontally|\n"
   ]
  },
  {
   "cell_type": "markdown",
   "metadata": {},
   "source": [
    "c. The column `'swear'` contains the percentage of swear words in each text. Visualize using a scatter plot whether swearing in literature became more or less common over time (use the `'Publication Year'` column. Summarize the result in one sentence."
   ]
  },
  {
   "cell_type": "code",
   "execution_count": 211,
   "metadata": {},
   "outputs": [
    {
     "data": {
      "image/png": "[encoded data removed]",
      "text/plain": [
       "<Figure size 360x360 with 1 Axes>"
      ]
     },
     "metadata": {
      "needs_background": "light"
     },
     "output_type": "display_data"
    },
    {
     "data": {
      "image/png": "[encoded data removed]",
      "text/plain": [
       "<Figure size 360x360 with 1 Axes>"
      ]
     },
     "metadata": {
      "needs_background": "light"
     },
     "output_type": "display_data"
    }
   ],
   "source": [
    "# Your code here\n",
    "sns.relplot(x = \"PublicationYear\", y = \"swear\", data = df);\n",
    "\n",
    "sns.lmplot(x = \"PublicationYear\", y = \"swear\", data = df, line_kws={'color': 'red'});\n",
    "\n",
    "# Your summary here\n",
    "# The percentage of swear words has gone up with time i.e. swearing has become more common over time.\n"
   ]
  },
  {
   "cell_type": "markdown",
   "metadata": {},
   "source": [
    "|Line Number| Code | Explanation|\n",
    "|---|---|---|\n",
    "|3.|`sns.relplot(x = \"PublicationYear\", y = \"swear\", data = df);`|Plots a scatter plot of the year of publication (x-axis) against the percentage of swearing in the book (y-axis)|\n",
    "|4.|`sns.lmplot(x = \"PublicationYear\", y = \"swear\", data = df, line_kws={'color': 'red'});`|Plots a linear regression plot (95%CI)|"
   ]
  },
  {
   "cell_type": "markdown",
   "metadata": {},
   "source": [
    "d. Visualize using a scatter plot whether swearing in literature is more common in younger or older authors (use the `'Age'` column). Summarize the results in one sentence."
   ]
  },
  {
   "cell_type": "code",
   "execution_count": 205,
   "metadata": {
    "scrolled": false
   },
   "outputs": [
    {
     "data": {
      "image/png": "[encoded data removed]",
      "text/plain": [
       "<Figure size 360x360 with 1 Axes>"
      ]
     },
     "metadata": {
      "needs_background": "light"
     },
     "output_type": "display_data"
    }
   ],
   "source": [
    "# Your code here\n",
    "\n",
    "sns.relplot(x='Age', y='swear', data=df);\n",
    "\n",
    "# Your summary here\n",
    "# Younger authors do tend to use more swear words than older authors."
   ]
  },
  {
   "cell_type": "markdown",
   "metadata": {},
   "source": [
    "|Line Number| Code | Explanation|\n",
    "|---|---|---|\n",
    "|3.|`sns.relplot(x='Age', y='swear', data=df);`|Plots a scatter plot of the age of the author (x-axis) against the level of swearing in their books (y-axis)|"
   ]
  }
 ],
 "metadata": {
  "kernelspec": {
   "display_name": "Python 3",
   "language": "python",
   "name": "python3"
  },
  "language_info": {
   "codemirror_mode": {
    "name": "ipython",
    "version": 3
   },
   "file_extension": ".py",
   "mimetype": "text/x-python",
   "name": "python",
   "nbconvert_exporter": "python",
   "pygments_lexer": "ipython3",
   "version": "3.7.6"
  }
 },
 "nbformat": 4,
 "nbformat_minor": 4
}
