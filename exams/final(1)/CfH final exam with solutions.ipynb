{
 "cells": [
  {
   "cell_type": "markdown",
   "metadata": {},
   "source": [
    "# Coding for Humanities final exam 2020\n",
    "\n",
    "Rules:\n",
    "\n",
    "- You should work alone. Do NOT discuss the exam with anyone until after the deadline. Identical answers will be reported to the board of examiners.\n",
    "- You may look up any information you want (including re-using code from the labs or lectures, or using code you find online as inspiration), but don't copy-paste code without understanding it.\n",
    "- You should only use Python concepts that have been covered in the course slides and notebooks. (Note: The book contains some concepts that have NOT been covered; don't use those; this also goes for code you find online).\n",
    "- Partial credit will be assigned. Try to get as far as you can even if you cannot completely solve a problem. If you did not manage to solve a previous subquestion, write the code as if you did manage to solve that subquestion. If you are asked to summarize results but your code doesn't work, explain what results you expect to get and why.\n",
    "- Your solutions are graded for:\n",
    "  - whether your code works correctly in all cases,\n",
    "  - whether your summary of the results is complete and correct,\n",
    "  - code style (meaningful variable names, succinct & elegant code)"
   ]
  },
  {
   "cell_type": "markdown",
   "metadata": {},
   "source": [
    "## 1. Imitation is the sincerest form of flattery (5pts)\n",
    "\n",
    "When Melania Trump gave a speech at the Republican National Convention in 2016, [commentators noted several striking similarities](https://www.npr.org/2016/07/19/486560186/section-of-melania-trumps-monday-speech-closely-imitates-michelle-obama-in-2008) with the speech of Michelle Obama at the 2008 Democratic National Convention. In this question, we will inspect and measure the similarity between the two speeches. For comparison, we will also look at the speech of Laura Bush at the Republican National Convention in 2004, to contrast the results of suspected plagiarism (Melania) with original works (Michelle, Laura). The following files are provided in the directory `finaldata/`:\n",
    "\n",
    "- `laura.txt`: [2004 RNC speech](https://www.foxnews.com/transcript/first-lady-laura-bush-in-the-rnc-spotlight) by Laura Bush\n",
    "- `michelle.txt`: [2008 DNC speech](https://www.npr.org/templates/story/story.php?storyId=93963863) by Michelle Obama\n",
    "- `melania.txt`: [2016 RNC speech](https://time.com/4412008/republican-convention-melania-trump-2/) by Melania Trump\n",
    "\n",
    "a. Create a function `readtexts(pattern)` that reads text files specified by a `glob` pattern and returns the preprocessed texts in a dictionary. Each key in the dictionary should be a filename without directories, and the value should be a list of lowercased tokens in that file."
   ]
  },
  {
   "cell_type": "code",
   "execution_count": 1,
   "metadata": {},
   "outputs": [
    {
     "name": "stdout",
     "output_type": "stream",
     "text": [
      "True\n",
      "True\n",
      "True\n"
     ]
    }
   ],
   "source": [
    "import os\n",
    "import glob\n",
    "import nltk\n",
    "import pandas as pd\n",
    "\n",
    "# Your code here\n",
    "def readtexts(pattern):\n",
    "    result = {}\n",
    "    for fname in glob.glob(pattern):\n",
    "        with open(fname, encoding='utf8') as inp:\n",
    "            txt = inp.read().lower()\n",
    "        result[os.path.basename(fname)] = nltk.word_tokenize(txt)\n",
    "    return result\n",
    "\n",
    "# Checking the first 10 tokens of each text (should print True):\n",
    "speech = readtexts('finaldata/*.txt')\n",
    "print(speech['melania.txt'][:10] == ['thank', 'you', '.', 'thank', 'you', 'very', 'much', '.', 'you', 'have'])\n",
    "print(speech['laura.txt'][:10] == ['thanks', ',', 'everybody', '.', 'thank', 'you', 'all', 'so', 'much', '.'])\n",
    "print(speech['michelle.txt'][:10] == ['as', 'you', 'might', 'imagine', ',', 'for', 'barack', ',', 'running', 'for'])"
   ]
  },
  {
   "cell_type": "markdown",
   "metadata": {},
   "source": [
    "A naive way of measuring text similarity is looking at overlapping vocabulary. If two speeches both contain a rare word such as \"[supercalifragilisticexpialidocious](https://en.wikipedia.org/wiki/Supercalifragilisticexpialidocious)\", that looks very suspicious. However, most words in texts are frequent. It is more effective to look at specific combinations of words. If a speech contains the words ``Ask not what your country can do for you``, it is almost certainly referencing or borrowing from John F. Kennedy's inaugural address, even though each of the individual words is very common. On the other hand, ``Good evening ladies and gentlemen`` is such a common expression that it has to be considered a false alarm and not evidence of plagiarism. Therefore automatic tools may be helpful in identifying similarities, but the results always need to be interpreted manually.\n",
    "\n",
    "We will extract sequences of tokens (i.e., phrases) from the texts. Sequences of consecutive tokens are called n-grams, where n is a number indicating the number of tokens. NLTK has a function to generate all n-grams in a list of tokens. For example:\n",
    "\n",
    "```python\n",
    "tokens = 'the cat is on the mat'.split()\n",
    "print(list(nltk.ngrams(tokens, 1)))\n",
    "print(list(nltk.ngrams(tokens, 2)))\n",
    "print(list(nltk.ngrams(tokens, 3)))\n",
    "```\n",
    "Gives:\n",
    "```\n",
    "[('the',), ('cat',), ('is',), ('on',), ('the',), ('mat',)]\n",
    "[('the', 'cat'), ('cat', 'is'), ('is', 'on'), ('on', 'the'), ('the', 'mat')]\n",
    "[('the', 'cat', 'is'), ('cat', 'is', 'on'), ('is', 'on', 'the'), ('on', 'the', 'mat')]\n",
    "```\n",
    "\n",
    "As you can see above, the `nltk.ngrams` function returns n-grams as tuples of strings, e.g., `('the', 'cat')`. It's easier to read the n-grams if they are represented as strings, e.g., `'the cat'`, so we will convert the n-grams to this format.\n",
    "\n",
    "b. Create a function `get_ngrams(tokens, n)`, which takes a list of tokens, and returns a list of n-grams, formatted as strings."
   ]
  },
  {
   "cell_type": "code",
   "execution_count": 2,
   "metadata": {},
   "outputs": [
    {
     "name": "stdout",
     "output_type": "stream",
     "text": [
      "True\n"
     ]
    }
   ],
   "source": [
    "# Your code here\n",
    "def get_ngrams(tokens, n):\n",
    "    return [' '.join(ngram) for ngram in nltk.ngrams(tokens, n)]\n",
    "\n",
    "# Test (should print True)\n",
    "print(get_ngrams(['the', 'cat', 'is', 'on', 'the', 'mat'], 2)\n",
    "     == ['the cat', 'cat is', 'is on', 'on the', 'the mat'])"
   ]
  },
  {
   "cell_type": "markdown",
   "metadata": {},
   "source": [
    "Now that we can extract n-grams from texts, we can identify n-grams that occur in two texts, which may be evidence of re-use. Using `set()`, we can reduce a list of n-grams to unique n-grams. This has the additional advantage that we can use the `&` operator ('intersection') to find the overlapping items efficiently:\n",
    "\n",
    "```python\n",
    "a = ['a', 'b', 'c']\n",
    "b = ['b', 'c', 'd']\n",
    "print(set(a) & set(b))\n",
    "```\n",
    "Gives: ``{'b', 'c'}``\n",
    "\n",
    "c. Create a function `common_ngrams(tokens1, tokens2, n)` that given two lists of tokens and a number `n`, computes the n-grams for the lists of tokens, and returns the set of n-grams they have in common. Use the function `get_ngrams` you created in 1b."
   ]
  },
  {
   "cell_type": "code",
   "execution_count": 3,
   "metadata": {},
   "outputs": [
    {
     "name": "stdout",
     "output_type": "stream",
     "text": [
      "True\n"
     ]
    }
   ],
   "source": [
    "# Your code here\n",
    "def common_ngrams(tokens1, tokens2, n):\n",
    "    return set(get_ngrams(tokens1, n)) & set(get_ngrams(tokens2, n))\n",
    "\n",
    "# Test (should print True)\n",
    "sent1 = ['the', 'cat', 'sat', 'on', 'the', 'mat']\n",
    "sent2 = ['the', 'cat', 'is', 'purring']\n",
    "print(common_ngrams(sent1, sent2, 2) == {'the cat'})"
   ]
  },
  {
   "cell_type": "markdown",
   "metadata": {},
   "source": [
    "d. Apply the function from 1c to the speeches of Laura Bush, Michelle Obama, and Melania Trump, which you read into a dictionary in question 1a. Use the value 6 for `n`; i.e., we want to see all phrases of 6 tokens the speeches have in common. Print the results of comparing the speeches of Laura vs Meliana, Laura vs Michelle, and finally Michelle vs Melania. For each pair of speeches, summarize in a single sentence whether you find evidence of borrowed phrases."
   ]
  },
  {
   "cell_type": "code",
   "execution_count": 4,
   "metadata": {},
   "outputs": [
    {
     "name": "stdout",
     "output_type": "stream",
     "text": [
      "laura - melania:\n",
      "set()\n",
      "\n",
      "laura - michelle:\n",
      "{'god bless you , and god', 'you , and god bless america', 'bless you , and god bless', ', and god bless america .'}\n",
      "\n",
      "michelle - melania:\n",
      "{'you work hard for what you', 'your bond and you do what', 'bond and you do what you', 'that you work hard for what', 'hard for what you want in', 'and your willingness to work for', 'your word is your bond and', 'is your bond and you do', 'dreams and your willingness to work', 'willingness to work for them .', 'know that the only limit to', 'your willingness to work for them', 'for what you want in life', 'to know that the only limit', 'word is your bond and you', 'work hard for what you want', 'that your word is your bond', 'your dreams and your willingness to', 'of your dreams and your willingness', 'and you do what you say'}\n"
     ]
    }
   ],
   "source": [
    "# Your code here\n",
    "print('laura - melania:')\n",
    "print(common_ngrams(speech['laura.txt'], speech['melania.txt'], 6))\n",
    "print()\n",
    "print('laura - michelle:')\n",
    "print(common_ngrams(speech['laura.txt'], speech['michelle.txt'], 6))\n",
    "print()\n",
    "print('michelle - melania:')\n",
    "print(common_ngrams(speech['michelle.txt'], speech['melania.txt'], 6))\n",
    "\n",
    "# Your summary here\n",
    "# Laura and Melania have no overlap.\n",
    "# The overlap between Michelle and Laura only concerns common phrases.\n",
    "# Melania has borrowed quite some phrases from Michelle."
   ]
  },
  {
   "cell_type": "markdown",
   "metadata": {},
   "source": [
    "In questions 1d we have looked at 6-grams (n-grams of length 6). Now we want to look at shorter and longer sequences.\n",
    "\n",
    "e. Compute all the common n-grams from n=1 to n=10 for all pairs of texts. Make a Pandas DataFrame with the following columns: `['melania & michelle', 'melania & laura', 'michelle & laura']`. The row labels should be the `n` values (1 to 10). The content of DataFrame should be the number of common n-grams for a given `n` and a pair of texts.\n",
    "\n",
    "For instance, for the column `'melania & michelle'`, row n=5, the value should be the result of `len(common_ngrams(speech['michelle.txt'], speech['melania.txt'], 5))`\n",
    "\n",
    "Create the DataFrame using a dictionary as shown in the slides of week 7. Summarize in a single sentence whether the result of 1d is confirmed for longer and shorter phrases."
   ]
  },
  {
   "cell_type": "code",
   "execution_count": 5,
   "metadata": {},
   "outputs": [
    {
     "data": {
      "text/html": [
       "<div>\n",
       "<style scoped>\n",
       "    .dataframe tbody tr th:only-of-type {\n",
       "        vertical-align: middle;\n",
       "    }\n",
       "\n",
       "    .dataframe tbody tr th {\n",
       "        vertical-align: top;\n",
       "    }\n",
       "\n",
       "    .dataframe thead th {\n",
       "        text-align: right;\n",
       "    }\n",
       "</style>\n",
       "<table border=\"1\" class=\"dataframe\">\n",
       "  <thead>\n",
       "    <tr style=\"text-align: right;\">\n",
       "      <th></th>\n",
       "      <th>melania &amp; michelle</th>\n",
       "      <th>melania &amp; laura</th>\n",
       "      <th>michelle &amp; laura</th>\n",
       "    </tr>\n",
       "  </thead>\n",
       "  <tbody>\n",
       "    <tr>\n",
       "      <th>1</th>\n",
       "      <td>226</td>\n",
       "      <td>226</td>\n",
       "      <td>280</td>\n",
       "    </tr>\n",
       "    <tr>\n",
       "      <th>2</th>\n",
       "      <td>227</td>\n",
       "      <td>195</td>\n",
       "      <td>272</td>\n",
       "    </tr>\n",
       "    <tr>\n",
       "      <th>3</th>\n",
       "      <td>86</td>\n",
       "      <td>44</td>\n",
       "      <td>71</td>\n",
       "    </tr>\n",
       "    <tr>\n",
       "      <th>4</th>\n",
       "      <td>45</td>\n",
       "      <td>9</td>\n",
       "      <td>22</td>\n",
       "    </tr>\n",
       "    <tr>\n",
       "      <th>5</th>\n",
       "      <td>29</td>\n",
       "      <td>3</td>\n",
       "      <td>9</td>\n",
       "    </tr>\n",
       "    <tr>\n",
       "      <th>6</th>\n",
       "      <td>20</td>\n",
       "      <td>0</td>\n",
       "      <td>4</td>\n",
       "    </tr>\n",
       "    <tr>\n",
       "      <th>7</th>\n",
       "      <td>16</td>\n",
       "      <td>0</td>\n",
       "      <td>3</td>\n",
       "    </tr>\n",
       "    <tr>\n",
       "      <th>8</th>\n",
       "      <td>12</td>\n",
       "      <td>0</td>\n",
       "      <td>2</td>\n",
       "    </tr>\n",
       "    <tr>\n",
       "      <th>9</th>\n",
       "      <td>9</td>\n",
       "      <td>0</td>\n",
       "      <td>1</td>\n",
       "    </tr>\n",
       "    <tr>\n",
       "      <th>10</th>\n",
       "      <td>6</td>\n",
       "      <td>0</td>\n",
       "      <td>0</td>\n",
       "    </tr>\n",
       "  </tbody>\n",
       "</table>\n",
       "</div>"
      ],
      "text/plain": [
       "    melania & michelle  melania & laura  michelle & laura\n",
       "1                  226              226               280\n",
       "2                  227              195               272\n",
       "3                   86               44                71\n",
       "4                   45                9                22\n",
       "5                   29                3                 9\n",
       "6                   20                0                 4\n",
       "7                   16                0                 3\n",
       "8                   12                0                 2\n",
       "9                    9                0                 1\n",
       "10                   6                0                 0"
      ]
     },
     "execution_count": 5,
     "metadata": {},
     "output_type": "execute_result"
    }
   ],
   "source": [
    "# Your code here\n",
    "df = pd.DataFrame({\n",
    "    'melania & michelle': [len(common_ngrams(speech['melania.txt'], speech['michelle.txt'], n)) for n in range(1, 11)],\n",
    "    'melania & laura': [len(common_ngrams(speech['melania.txt'], speech['laura.txt'], n))  for n in range(1, 11)],\n",
    "    'michelle & laura': [len(common_ngrams(speech['michelle.txt'], speech['laura.txt'], n))  for n in range(1, 11)]},\n",
    "    index=range(1, 11))\n",
    "df\n",
    "\n",
    "# Your summary here\n",
    "# Yes, the results are confirmed"
   ]
  },
  {
   "cell_type": "markdown",
   "metadata": {},
   "source": [
    "## 2. Swearing in literature (4pts)\n",
    "\n",
    "In this question we will work with a dataset of English-language literature. The dataset consists of a table with books as rows. The columns contain metadata and results from a tool called [LIWC](https://liwc.wpengine.com/), which stands for Linguistic Inquiry and Word Counts. LIWC counts words in specific categories, and returns the result as a percentage. For example, if a book has a score of `1.23` for `'PositiveEmotion'`, that means that 1.23% of the words in that book consists of positive emotion words.\n",
    "\n",
    "Dataset credit: https://data.mendeley.com/datasets/tmp32v54ss/1\n",
    "\n",
    "a. Read the dataset ``finaldata/english_metadata_and_liwc.csv`` into a Pandas DataFrame. In the column `'Sex'`, the value `1` means `male`, while `2` means `female`; replace the numbers such that values in the `'Sex'` column are the strings `male` and `female` instead of `1` and `2`, respectively. Finally, rename the `'Sex'` column to `'Gender'`."
   ]
  },
  {
   "cell_type": "code",
   "execution_count": 6,
   "metadata": {},
   "outputs": [],
   "source": [
    "import pandas as pd\n",
    "import seaborn as sns\n",
    "\n",
    "# Your code here\n",
    "en = pd.read_csv('finaldata/english_metadata_and_liwc.csv', encoding='utf8')\n",
    "en = en.replace({'Sex': {1: 'male', 2: 'female'}})\n",
    "en = en.rename(columns={'Sex': 'Gender'})"
   ]
  },
  {
   "cell_type": "markdown",
   "metadata": {},
   "source": [
    "b. Make a box plot with `'Age'` on the x-axis, and `'Gender'` on the y-axis. Summarize the difference in one sentence."
   ]
  },
  {
   "cell_type": "code",
   "execution_count": 7,
   "metadata": {},
   "outputs": [
    {
     "data": {
      "image/png": "[encoded data removed]",
      "text/plain": [
       "<Figure size 432x288 with 1 Axes>"
      ]
     },
     "metadata": {
      "needs_background": "light"
     },
     "output_type": "display_data"
    }
   ],
   "source": [
    "# Your code here\n",
    "sns.boxplot(x='Age', y='Gender', data=en, width=0.3);\n",
    "# Your summary here\n",
    "# The range of ages for female writer is larger\n",
    "# (both younger and older writers),\n",
    "# and the median is larger."
   ]
  },
  {
   "cell_type": "markdown",
   "metadata": {},
   "source": [
    "c. The column `'swear'` contains the percentage of swear words in each text. Visualize using a scatter plot whether swearing in literature became more or less common over time (use the `'Publication Year'` column. Summarize the result in one sentence."
   ]
  },
  {
   "cell_type": "code",
   "execution_count": 8,
   "metadata": {},
   "outputs": [
    {
     "data": {
      "image/png": "[encoded data removed]",
      "text/plain": [
       "<Figure size 432x288 with 1 Axes>"
      ]
     },
     "metadata": {
      "needs_background": "light"
     },
     "output_type": "display_data"
    }
   ],
   "source": [
    "# Your code here\n",
    "sns.regplot(x='PublicationYear', y='swear', data=en);\n",
    "# Your summary here\n",
    "# Summary: yes, swearing is more common in more recent books."
   ]
  },
  {
   "cell_type": "markdown",
   "metadata": {},
   "source": [
    "d. Visualize using a scatter plot whether swearing in literature is more common in younger or older authors (use the `'Age'` column). Summarize the results in one sentence."
   ]
  },
  {
   "cell_type": "code",
   "execution_count": 9,
   "metadata": {
    "scrolled": true
   },
   "outputs": [
    {
     "data": {
      "image/png": "[encoded data removed]",
      "text/plain": [
       "<Figure size 432x288 with 1 Axes>"
      ]
     },
     "metadata": {
      "needs_background": "light"
     },
     "output_type": "display_data"
    }
   ],
   "source": [
    "# Your code here\n",
    "sns.regplot(x='Age', y='swear', data=en);\n",
    "# Your summary here\n",
    "# No, writers do not seem to swear more or less\n",
    "# when they are older or younger."
   ]
  }
 ],
 "metadata": {
  "kernelspec": {
   "display_name": "Python 3",
   "language": "python",
   "name": "python3"
  },
  "language_info": {
   "codemirror_mode": {
    "name": "ipython",
    "version": 3
   },
   "file_extension": ".py",
   "mimetype": "text/x-python",
   "name": "python",
   "nbconvert_exporter": "python",
   "pygments_lexer": "ipython3",
   "version": "3.7.6"
  }
 },
 "nbformat": 4,
 "nbformat_minor": 4
}
