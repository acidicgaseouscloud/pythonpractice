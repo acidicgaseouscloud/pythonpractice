{
 "cells": [
  {
   "cell_type": "markdown",
   "metadata": {},
   "source": [
    "# Coding for Humanities midterm exam 2020: 10\n",
    "\n",
    "Rules:\n",
    "- You should work alone.\n",
    "- You may look up any information you want (including re-using code from the labs or lectures), but don't copy-paste code without understanding it.\n",
    "- You should only use Python concepts that have been covered in the course slides and notebooks. (Note: The book contains some concepts that have NOT been covered; don't use those).\n",
    "- Partial credit will be assigned. Try to get as far as you can even if you cannot completely solve a problem.\n",
    "- Your solutions are graded for:\n",
    "  - whether your code works correctly in all cases,\n",
    "  - whether your accompanying explanation of the code is complete and correct,\n",
    "  - code style:\n",
    "    - meaningful variable names\n",
    "    - succinct & elegant code"
   ]
  },
  {
   "cell_type": "markdown",
   "metadata": {},
   "source": [
    "### Note\n",
    "Instead of making comments for each line, each block of code is followed by a table discussing each step. I felt that it would be neater."
   ]
  },
  {
   "cell_type": "markdown",
   "metadata": {},
   "source": [
    "## 1. Deciphering double plus secure encryption (3 points).\n",
    "\n",
    "You work for the government of a small country. You are approached by a shady looking figure who wants to sell you a system called double plus secure(tm), for sending top secret messages. You suspect the system is actually not that secure, but to prove that you have to decipher the code, which has been obfuscated to protect their secret sauce.\n",
    "\n",
    "Consider the following function, in which the names for the parameters and local variables (i.e., variables inside the function) have been deliberately obfuscated:"
   ]
  },
  {
   "cell_type": "code",
   "execution_count": 6,
   "metadata": {},
   "outputs": [],
   "source": [
    "def encrypt(b):\n",
    "    c = b.split(' ')\n",
    "    d = ''\n",
    "    for e in c:\n",
    "        f = ''\n",
    "        for g in e:\n",
    "            f = g + f\n",
    "        d = f + ' ' + d\n",
    "    return d[:-1]"
   ]
  },
  {
   "cell_type": "markdown",
   "metadata": {},
   "source": [
    "a. Explain step by step the purpose of each line of the function. Refer to the data types involved, and the manipulation performed on that data."
   ]
  },
  {
   "cell_type": "markdown",
   "metadata": {},
   "source": [
    "1. Use `def` keyword to define the function `encrypt()` with one parameter: `b`. \n",
    "2. split string `b` with the delimiter `' '` (space) into a list of words.\n",
    "3. Create empty string `d`.\n",
    "4. Iterate over words `e` in list `c`.\n",
    "5. create empty string `f`.\n",
    "6. iterate over letters `g` in word `e`.\n",
    "7. add letter to string `f` from the left\n",
    "8. after having the word backwards, add it to string `d` from the left.\n",
    "9. return the reverse of the input string `b`."
   ]
  },
  {
   "cell_type": "markdown",
   "metadata": {},
   "source": [
    "b. Try the function with a few examples and print the results. Describe in one sentence what this function effectively does to its input `b`."
   ]
  },
  {
   "cell_type": "code",
   "execution_count": 13,
   "metadata": {},
   "outputs": [
    {
     "name": "stdout",
     "output_type": "stream",
     "text": [
      "ydduB\n",
      "?ereht ni ydobyna ereht si ,olleh\n",
      ".emiiiT dOOg a hCUs gnIvAH m'I ,wOn Em PoTs t'noD\n"
     ]
    }
   ],
   "source": [
    "# Your examples\n",
    "print(encrypt(\"Buddy\"))\n",
    "\n",
    "print(encrypt(\"hello, is there anybody in there?\"))\n",
    "\n",
    "print(encrypt(\"Don't sToP mE nOw, I'm HAvIng sUCh a gOOd Tiiime.\"))\n",
    "\n",
    "# Your explanation\n",
    "# The function reverses the input string, letter by letter, i.e. \"hello\" becomes \"olleh\". "
   ]
  },
  {
   "cell_type": "markdown",
   "metadata": {},
   "source": [
    "c. Create a function `decrypt(codedmessage)` that decodes a message 'encrypted' by this system and returns the original message. Use appriopriate and meaningful names for function, parameter, and local variables. Also simplify the code where possible, as long as it is able to correctly decrypt any coded message."
   ]
  },
  {
   "cell_type": "code",
   "execution_count": 30,
   "metadata": {},
   "outputs": [
    {
     "name": "stdout",
     "output_type": "stream",
     "text": [
      "This is a test\n",
      "True\n"
     ]
    }
   ],
   "source": [
    "# your code here\n",
    "\n",
    "def decrypt(codedmessage): \n",
    "    return codedmessage[::-1] # returns the complete string in reverse (-1 step argument)\n",
    "\n",
    "# Tests\n",
    "\n",
    "print(decrypt(encrypt('This is a test')))  # should print 'This is a test'\n",
    "\n",
    "# more generally:\n",
    "\n",
    "message = 'This is  another test'\n",
    "print(decrypt(encrypt(message)) == message)  # should print True for every message"
   ]
  },
  {
   "cell_type": "markdown",
   "metadata": {},
   "source": [
    "**Explanation of code for exercise 1c :**\n",
    "\n",
    "|Line Number| Code | Explanation|\n",
    "|---|---|---|\n",
    "|3.|`def decrypt(codedmessage):` |Uses keyword def to define function decrypt() with one parameter: codedmessage.|\n",
    "|4.|`    return codedmessage[::-1]` |Returns the complete input string value (not start or stop arguments) in reverse (negative one step argument)|\n"
   ]
  },
  {
   "cell_type": "markdown",
   "metadata": {},
   "source": [
    "## 2. The commander in tweets (3 points) \n",
    "\n",
    "Your government is worried about the outcome of the US presidential elections because it will have a large influence on their economy. Unfortunately, they are convinced of a simplistic theory claiming that electability can be predicted from the number of complex words the candidate uses on Twitter. After 13 hours of non-stop deliberation, a committee has decided that a complex word is a word that has more than 10 letters. You are asked to do an exploratory study of their hypothesis.\n",
    "\n",
    "a. Start by writing a function that takes a twitter message as input and returns a cleaned list of words. Make sure that `#hashtags`, `@usernames`, and `https://links` are not counted as potential words, and remove other punctuation from the tweet. You may use the `remove_punc()` or `remove_punc2()` function from the lab as a starting point."
   ]
  },
  {
   "cell_type": "code",
   "execution_count": 121,
   "metadata": {},
   "outputs": [],
   "source": [
    "def puncStrip(string):\n",
    "    punctuation = '''!()-[]{};:'\"\\,<>./?@#$%^&*_~''' \n",
    "    for puncMark in punctuation:\n",
    "        string = string.replace(puncMark, '') # Replaces punctuation with empty string \"\"\n",
    "    return string "
   ]
  },
  {
   "cell_type": "markdown",
   "metadata": {},
   "source": [
    "**Explanation of puncStrip():**\n",
    "\n",
    "|Line Number| Code | Explanation|\n",
    "|---|---|---|\n",
    "|1.|`def puncStrip(string):`|Defines a punctuation removing function|\n",
    "|2.|`    punctuation = '''!()-[]{};:'\"\\,<>./?@#$%^&*_~'''`|Punctuation marks to compare against|\n",
    "|3.|`    for puncMark in punctuation:`|Iterates over punctuation marks in string assigned to the variable punctuation|\n",
    "|4.|`        string = string.replace(puncMark, '')`|Reassigns string's value to the input string without the punctuation mark.|\n",
    "|5.|`    return string `|Returns string with none of the punctuation marks in the string assigned to the variable punctuation|"
   ]
  },
  {
   "cell_type": "code",
   "execution_count": 148,
   "metadata": {},
   "outputs": [
    {
     "name": "stdout",
     "output_type": "stream",
     "text": [
      "True\n",
      "True\n",
      "True\n",
      "True\n"
     ]
    }
   ],
   "source": [
    "# Your code here\n",
    "\n",
    "def cleantweet(tweet): \n",
    "    charsToIgnore = (\"#\", \"@\", \"https://\") \n",
    "    listTweet = tweet.split() \n",
    "    result = []\n",
    "    for word in listTweet:\n",
    "        if not word.startswith(charsToIgnore): # Ignores links, hashtags, and usernames\n",
    "            word = puncStrip(word)  \n",
    "            if word:  \n",
    "                result.append(word) # Adds the cleaned data to new list, result\n",
    "    return result \n",
    "\n",
    "# Tests (all of these should print True)\n",
    "print(cleantweet('This is a test !') == ['This', 'is', 'a', 'test'])\n",
    "print(cleantweet('This #doesnotcountasaword.') == ['This'])\n",
    "print(cleantweet('https://t.co/BIzRKYzGdM') == [])\n",
    "print(cleantweet('This message is sophisticated.') == ['This', 'message', 'is', 'sophisticated'])"
   ]
  },
  {
   "cell_type": "markdown",
   "metadata": {},
   "source": [
    "**Explanation of cleantweet():**\n",
    "\n",
    "|Line Number| Code | Explanation|\n",
    "|---|---|---|\n",
    "|3.|`def cleantweet(tweet):`|Defining a function to clean tweets (string)|\n",
    "|4.|`    charsToIgnore = (\"#\", \"@\", \"https://\")`|Tuple (because it will be used with .startswith()) containing characters to ignore|\n",
    "|5.|`    listTweet = tweet.split()`|The tweet listed as individual words of the tweet using default delimiter, \" \"|\n",
    "|6.|`    result = []`|Empty list where the tweet's cleaned words will be stored|\n",
    "|7.|`    for word in listTweet:`|Iterates over each word in the listed tweet|\n",
    "|8.|`        if not word.startswith(charsToIgnore):`|Checks if the word doesn't have a hashtag, username, or link|\n",
    "|9.|`            word = puncStrip(word)`|Strips the word of punctuation|\n",
    "|10.|`            if word:`|Checks if the resulting word is not an empty string| \n",
    "|11.|`                result.append(word)`|Adds the word to the resulting list|\n",
    "|12.|`    return result`|Returns the list with the tweet's cleaned words|\n"
   ]
  },
  {
   "cell_type": "markdown",
   "metadata": {},
   "source": [
    "b. Write a function that takes a twitter message as argument, cleans it with the function you wrote, and returns `True` or `False` depending on whether it contains any complex words (i.e., words with more than 10 letters). "
   ]
  },
  {
   "cell_type": "code",
   "execution_count": 149,
   "metadata": {},
   "outputs": [
    {
     "name": "stdout",
     "output_type": "stream",
     "text": [
      "True\n",
      "True\n",
      "True\n",
      "True\n"
     ]
    }
   ],
   "source": [
    "# Your code here\n",
    "\n",
    "def has_complex_words(tweet):\n",
    "    result = False\n",
    "    tweet = cleantweet(tweet)\n",
    "    for word in tweet: \n",
    "        if len(word) > 10:\n",
    "            result = True # Changes result's Boolean value to true if a word has len > 10\n",
    "    return result\n",
    "\n",
    "# Tests (all of these should print True)\n",
    "print(has_complex_words('This is a test !') == False)\n",
    "print(has_complex_words('This #doesnotcountasaword.') == False)\n",
    "print(has_complex_words('https://t.co/BIzRKYzGdM') == False)\n",
    "print(has_complex_words('This message is sophisticated.') == True)\n"
   ]
  },
  {
   "cell_type": "markdown",
   "metadata": {},
   "source": [
    "**Explanation of cleantweet():**\n",
    "\n",
    "|Line Number| Code | Explanation|\n",
    "|---|---|---|\n",
    "|3.|`def has_complex_words(tweet):`|Defining a function to check if the tweet (string) has complex words (> 10 chars)|\n",
    "|4.|`    result = False`|Assigns False to result so that if no complex words are found, the result is false|\n",
    "|5.|`    tweet = cleantweet(tweet)`|Cleans tweet using earlier function and reassigns the resulting list to tweet| \n",
    "|6.|`    for word in tweet:`|Iterates over each word in the list, tweet|\n",
    "|7.|`        if len(word) > 10:`|Checks if the length of the word is greater than 10 characters|\n",
    "|8.|`            result = True`|Changes result to True if length of the word is greater than 10 characters|\n",
    "|9.|`    return result`|Returns boolean result of True or False depending on if the code found any words with len(word) > 10| \n"
   ]
  },
  {
   "cell_type": "markdown",
   "metadata": {},
   "source": [
    "c. You will now use your function on the tweets below, given as one tweet per line; run the cells before proceeding. Write a function that reports, for a given set of tweets, the percentage of tweets with complex words; use this function to compare the candidates. Does Trump really have the '[best words](https://www.youtube.com/watch?v=0T-Eo0j092Q)'? Report the results of your function on both candidates, and write an executive summary in 1 sentence.\n",
    "\n",
    "Data credit: https://github.com/gomachinelearning/Blogs/"
   ]
  },
  {
   "cell_type": "code",
   "execution_count": 150,
   "metadata": {},
   "outputs": [],
   "source": [
    "trump = \"\"\"Failing  Michigan Governor must work harder and be much more proactive. We are pushing her to get the job done. I stand with Michigan!\n",
    "RT @LindseyGrahamSC: President Trump’s decision to declare a national emergency over the #coronavirus pandemic is the right call. \n",
    "RT @LindseyGrahamSC: Really appreciate the efforts of Dr. #Fauci. He has become a national treasure just like ALL of our healthcare workers…\n",
    "RT @WhiteHouse: Avoid eating out. Use carry-out, drive-thru, and delivery options. https://t.co/osBRcxnyFY\n",
    "RT @WhiteHouse: Help make the next 15 days count and avoid social gatherings of more than 10 people. https://t.co/txPAAFtxIu\n",
    "Cuomo wants “all states to be treated the same.” But all states aren’t the same. Some are being hit hard by the Chinese Virus, some are being hit practically not at all. New York is a very big “hotspot”, West Virginia has, thus far, zero cases. Andrew, keep politics out of it....\n",
    "RT @AFP: #UPDATE The first human trial to evaluate a candidate vaccine against the new coronavirus has begun in Seattle, US health official…\n",
    "RT @marklevinshow: The Jewish case for President Trump\n",
    "https://t.co/PZfxzgoQwM\n",
    "RT @marklevinshow: Democrat Party-press wrong and disappointed\n",
    "https://t.co/BIzRKYzGdM\n",
    "RT @marklevinshow: The debate tonight is hardly a debate at all. Biden has largely moved hard left where there are now relatively few diffe…\n",
    "RT @marklevinshow: It’s amazing how hospitable the moderators are to the Democrat Party’s leftwing agenda.  Thus far, absolutely no serious…\n",
    "RT @marklevinshow: https://t.co/CzAAVvzmrQ\n",
    "RT @marklevinshow: The Atlantic spews communist China’s propaganda while trashing the Trump administration.  And it’s not alone among the A…\n",
    "RT @trscoop: Leftist math genius caught in another FAIL over lying about Trump’s comments to governors to make him look bad https://t.co/3P…\n",
    "RT @RedState: Dan Bongino and Others Call out NYT Editor for Altering Trump Quote From Conference Call With Governors https://t.co/gz0lCPx4…\n",
    "RT @dbongino: It’s pretty hilarious that the NY Times thinks we’re not gonna fact-check everything they say and type, give their propensity…\n",
    "RT @TomFitton: A simple truth.\n",
    "RT @Techno_Fog: Wow.\n",
    "The DOJ moves to dismiss the charges against the Russian Company (Concord) who conducted the alleged \"information war…\n",
    "RT @dbongino: Team Mueller 🤦🏼‍♂️🤦🏼‍♂️🤦🏼‍♂️🤦🏼‍♂️🤦🏼‍♂️🤦🏼‍♂️👇🏻👇🏻\n",
    "The “Times” is a disgrace to journalism! https://t.co/gfMc6fIbfI\n",
    "RT @LindseyGrahamSC: I look forward to getting back to work with my Senate colleagues and President Trump to contain this virus and stabili…\n",
    "Great news Lindsey! https://t.co/Fn8C7IoZaF\n",
    "RT @LindseyGrahamSC: My primary goal is to lessen the loss of life.  \n",
    "Our economy can be rebuilt.  The loss of life is permanent. \n",
    "The United States will be powerfully supporting those industries, like Airlines and others, that are particularly affected by the Chinese Virus. We will be stronger than ever before!\n",
    "I ask all Americans to band together and support your neighbors by not hoarding unnecessary amounts of food and essentials. TOGETHER we will stay STRONG and overcome this challenge!\n",
    "Yesterday I spoke with the great American Grocers and Supply Chain Executives. We are confident that supply will continue to meet demand nationwide. These beacons of our community will remain open for you, no matter what. We are working hard to remove any barriers to that effort!\"\"\""
   ]
  },
  {
   "cell_type": "code",
   "execution_count": 151,
   "metadata": {},
   "outputs": [],
   "source": [
    "biden = \"\"\"To Trump, the people getting hurt are just pawns in his game. #TeamJoe\n",
    "Hey everyone, @TeamJoe here. We’re taking over to keep you in the loop on our event in Ottumwa, Iowa. Stay tuned! #TeamJoe\n",
    "I'm headed to eastern Iowa this week to talk with voters about our vision for the future. Head to https://t.co/r0RlGWdvLe to RSVP to an event in your community.\n",
    "It was great to be back in Atlanta! Thank you to Mayor @KeishaBottoms for showing me around town and for your work expanding opportunity to every corner of the city. https://t.co/kmhmeN5lHm\n",
    "President Trump’s decision to abandon the #ParisAgreement wasn't just reckless—it abdicated our leadership on the world stage and threatened the future of our planet.\n",
    "On day one, I’ll rejoin the Agreement and rally the world to push our progress further. https://t.co/0Wxk0RIYvs\n",
    "Jill &amp; I were thrilled to be there today to watch our amazing granddaughter Maisy graduate. Maisy, you make us so proud &amp; we can’t wait to see what you do next with your talent, smarts, dedication and kindness. The future is yours, and Nana &amp; Pop will always be right behind you. https://t.co/zj80Kee4l3\n",
    "As president, I’ll lead America to become the world’s clean energy superpower.\n",
    "https://t.co/FbsOsyQkIo https://t.co/rzeIcuW9BW\n",
    "Happy birthday to one of the strongest people Jill and I know, @GabbyGiffords. You are an inspiration to so many people. Your courage and your advocacy have made our country a better place.\n",
    "Happy #BestFriendsDay to my friend, @BarackObama. https://t.co/JTd1t7NtyL\n",
    "The Bidens are celebrating my daughter Ashley’s birthday today. @DrBiden and I are so proud of everything she has accomplished and can’t wait to see what she achieves in the years ahead. https://t.co/XlUZHSBMKp\n",
    "Across America, mayors are stepping up and leading the way on combating climate change. Thank you to @MartyForBoston for showing me the innovative work Boston is doing to protect the city from rising sea levels and increased flooding. https://t.co/LZKp6WNWlj\n",
    "Iowa, we’re heading your way next week and hope to see you there! Go to https://t.co/r0RlGWdvLe to RSVP to an event in your community.\n",
    "Make no mistake, how we act in the next 12 years will determine the very livability of our planet. We’ll make the largest investment in American history to tackle the climate emergency head on and protect our planet for future generations. https://t.co/XJsdFWUo9j\n",
    "This campaign is about listening to communities and working with them to find solutions to the issues on their minds. Yesterday we held a roundtable to do just that.\n",
    "Thank you to everyone who shared their stories with me in Atlanta. https://t.co/xSyn19iT7L\n",
    "I know how to beat the NRA because I’ve done it before - twice. I shepherded through the passage of the Brady background check bill in 1993, and bans on assault weapons and high-capacity magazines in 1994. As president, I will defeat the NRA again.\n",
    "We can’t let a special interest group dictate the safety of the rest of the country. That’s why defeating the NRA is a key element of our education policy we introduced last week.\n",
    "We will be rolling out policies to reduce gun violence in the coming months, but it’s clear we need to: \n",
    "- Close the loophole that allows individuals to buy guns online or at gun shows without a background check.\n",
    "- Ban the sale of assault weapons and high-capacity magazines.\n",
    "There are actions that Congress can take right now if they were to listen to the majority of the American people who want to see our government take action to stop gun violence.\n",
    "We don't need to convince the American public that common-sense measures to reduce gun violence are a good idea. 2 in 3 people believe that we need stricter gun laws.\n",
    "This is politics at its worst. We should all feel safe to walk the streets of our own cities and towns. Our workers should feel safe at work. Our students should always feel safe at school.\n",
    "We need action. But the NRA and gun manufacturers have such a firm grip on Republicans in Congress that they refuse to consider common-sense gun reforms.\n",
    "Today is #NationalGunViolenceAwarenessDay. Our team, and people across the country, are wearing orange in remembrance of the countless lives that have been cut short by senseless acts of gun violence in America.\n",
    "Women’s rights and health care are under assault in a way that seeks to roll back every step of progress we’ve made over the last 50 years. If I believe health care is a right, as I do, I can no longer support an amendment that makes that right dependent on someone’s zip code.\n",
    "Today, we honor all those who answered duty’s call on June 6, 1944, not only in memorials and remembrances, but in recommitting ourselves to the urgent task of defending those values for which they fought and so many died.\n",
    "Their valor cemented in history their place of honor and it planted the seeds of what would grow to become the greatest military alliance in the history of the world—one that would preserve the peace and extend the hard won gains of democracy for their children and grandchildren.\"\"\""
   ]
  },
  {
   "cell_type": "code",
   "execution_count": 152,
   "metadata": {},
   "outputs": [
    {
     "name": "stdout",
     "output_type": "stream",
     "text": [
      "Trump 30.0\n",
      "Biden 50.0\n"
     ]
    }
   ],
   "source": [
    "# Your code here\n",
    "\n",
    "def proportion_complex_tweets(candidateTweets): \n",
    "    listTweets = candidateTweets.splitlines()\n",
    "    numTweetsComplex = 0\n",
    "    for tweet in listTweets: # Iterates over tweets to check if they have complex words\n",
    "        if has_complex_words(tweet):\n",
    "            numTweetsComplex +=1 \n",
    "    return (numTweetsComplex/len(listTweets))*100 # Returns the percentage of tweets that have complex words\n",
    "\n",
    "# Show the results\n",
    "print('Trump', proportion_complex_tweets(trump))\n",
    "print('Biden', proportion_complex_tweets(biden))\n",
    "\n",
    "# Executive summary:\n",
    "# Biden (50%) uses more complex words in his tweets than Trump (30%)."
   ]
  },
  {
   "cell_type": "markdown",
   "metadata": {},
   "source": [
    "**Explanation of proportion_complex_tweets():**\n",
    "\n",
    "|Line Number| Code | Explanation|\n",
    "|---|---|---|\n",
    "|3.|`def proportion_complex_tweets(candidateTweets):`|Defines a function to give the percentage of tweets with complex words|\n",
    "|4.|`    listTweets = candidateTweets.splitlines()`|Splits the data into a list of tweets|\n",
    "|5.|`    numTweetsComplex = 0`|Creates counter variable for total number of tweets in data with complex words|\n",
    "|6.|`    for tweet in listTweets:`|Iterates over each tweet in listed tweets|\n",
    "|7.|`        if has_complex_words(tweet):`|Checks to see if the tweet has a complex word|\n",
    "|8.|`            numTweetsComplex +=1`|Adds 1 to counter value for number of tweets with complex words|\n",
    "|9.|`    return (numTweetsComplex/len(listTweets))*100 `|Returns the percentage of tweets with complex words by dividing the number of tweets with complex words by the length of the list of tweets, i.e. total number of tweets|"
   ]
  },
  {
   "cell_type": "markdown",
   "metadata": {},
   "source": [
    "## 3. Penguins (3 points)\n",
    "\n",
    "After successfully uncovering the spy operation and impressing your government with your analysis of the US presidential elections, as a reward you are sent to Antarctica to study penguins. Your mission is to settle long standing questions on sex differences in penguins. You have collected data in a table (given as a string in the cell below, run it before proceeding), and are asked to summarize the results.\n",
    "\n",
    "The table has the following columns (prefixed by the column number starting from 0):\n",
    "\n",
    "0. `species/island` (str)\n",
    "1. `bill_length_mm` (float)\n",
    "2. `bill_depth_mm` (float)\n",
    "3. `flipper_length_mm` (float)\n",
    "4. `body_mass_g` (float)\n",
    "5. `sex` (str)\n",
    "\n",
    "a. Write a function `analyze(data, column_number)` that goes through the table and computes the mean of the numbers in the specified column. Your function only has to work for the numeric (float) columns. Calculate the mean by summing the numbers, and then dividing by the number of penguins. Since your research question involves sex differences, compute the mean for males and females separately and return both numbers in a dictionary. Some data is missing, indicated with the value `'NA'`. Skip those lines/penguins/measurements.\n",
    "\n",
    "Hints:\n",
    " - Go through the table line by line. Split it into lines with the method [splitlines()](https://docs.python.org/3/library/stdtypes.html#str.splitlines) which returns a list.\n",
    " - The table is in a tab-separated format (Jupyter displays the tab characters with a special arrow symbol). Given a line of the table, split the line into a list with `line.split('\\t')`.\n",
    " - `analyze(data, 3)` should return the means for column 3 (starting from 0), i.e., `flipper_length_mm` in this dataset. Again, your code only has to work for the float columns.\n",
    " - The code should return a dictionary of the form\n",
    "   `{'male': 181.2, 'female': 177.4}` (these numbers are just examples)\n",
    "\n",
    "Dataset credits: https://github.com/allisonhorst/palmerpenguins"
   ]
  },
  {
   "cell_type": "code",
   "execution_count": 153,
   "metadata": {},
   "outputs": [],
   "source": [
    "data = \"\"\"Adelie Torgersen\t39.1\t18.7\t181\t3750\tmale\n",
    "Adelie Torgersen\t39.5\t17.4\t186\t3800\tfemale\n",
    "Adelie Torgersen\t40.3\t18\t195\t3250\tfemale\n",
    "Adelie Torgersen\tNA\tNA\tNA\tNA\tNA\n",
    "Adelie Torgersen\t36.7\t19.3\t193\t3450\tfemale\n",
    "Adelie Torgersen\t39.3\t20.6\t190\t3650\tmale\n",
    "Adelie Torgersen\t38.9\t17.8\t181\t3625\tfemale\n",
    "Adelie Torgersen\t39.2\t19.6\t195\t4675\tmale\n",
    "Adelie Torgersen\t34.1\t18.1\t193\t3475\tNA\n",
    "Adelie Torgersen\t42\t20.2\t190\t4250\tNA\n",
    "Adelie Torgersen\t37.8\t17.1\t186\t3300\tNA\n",
    "Adelie Torgersen\t37.8\t17.3\t180\t3700\tNA\n",
    "Adelie Torgersen\t41.1\t17.6\t182\t3200\tfemale\n",
    "Adelie Torgersen\t38.6\t21.2\t191\t3800\tmale\n",
    "Adelie Torgersen\t34.6\t21.1\t198\t4400\tmale\n",
    "Adelie Torgersen\t36.6\t17.8\t185\t3700\tfemale\n",
    "Adelie Torgersen\t38.7\t19\t195\t3450\tfemale\n",
    "Adelie Torgersen\t42.5\t20.7\t197\t4500\tmale\n",
    "Adelie Torgersen\t34.4\t18.4\t184\t3325\tfemale\n",
    "Adelie Torgersen\t46\t21.5\t194\t4200\tmale\n",
    "Adelie Biscoe\t37.8\t18.3\t174\t3400\tfemale\n",
    "Adelie Biscoe\t37.7\t18.7\t180\t3600\tmale\n",
    "Adelie Biscoe\t35.9\t19.2\t189\t3800\tfemale\n",
    "Adelie Biscoe\t38.2\t18.1\t185\t3950\tmale\n",
    "Adelie Biscoe\t38.8\t17.2\t180\t3800\tmale\n",
    "Adelie Biscoe\t35.3\t18.9\t187\t3800\tfemale\n",
    "Adelie Biscoe\t40.6\t18.6\t183\t3550\tmale\n",
    "Adelie Biscoe\t40.5\t17.9\t187\t3200\tfemale\n",
    "Adelie Biscoe\t37.9\t18.6\t172\t3150\tfemale\n",
    "Adelie Biscoe\t40.5\t18.9\t180\t3950\tmale\n",
    "Adelie Dream\t39.5\t16.7\t178\t3250\tfemale\n",
    "Adelie Dream\t37.2\t18.1\t178\t3900\tmale\n",
    "Adelie Dream\t39.5\t17.8\t188\t3300\tfemale\n",
    "Adelie Dream\t40.9\t18.9\t184\t3900\tmale\n",
    "Adelie Dream\t36.4\t17\t195\t3325\tfemale\n",
    "Adelie Dream\t39.2\t21.1\t196\t4150\tmale\n",
    "Adelie Dream\t38.8\t20\t190\t3950\tmale\n",
    "Adelie Dream\t42.2\t18.5\t180\t3550\tfemale\n",
    "Adelie Dream\t37.6\t19.3\t181\t3300\tfemale\n",
    "Adelie Dream\t39.8\t19.1\t184\t4650\tmale\n",
    "Adelie Dream\t36.5\t18\t182\t3150\tfemale\n",
    "Adelie Dream\t40.8\t18.4\t195\t3900\tmale\n",
    "Adelie Dream\t36\t18.5\t186\t3100\tfemale\n",
    "Adelie Dream\t44.1\t19.7\t196\t4400\tmale\n",
    "Adelie Dream\t37\t16.9\t185\t3000\tfemale\n",
    "Adelie Dream\t39.6\t18.8\t190\t4600\tmale\n",
    "Adelie Dream\t41.1\t19\t182\t3425\tmale\n",
    "Adelie Dream\t37.5\t18.9\t179\t2975\tNA\n",
    "Adelie Dream\t36\t17.9\t190\t3450\tfemale\n",
    "Adelie Dream\t42.3\t21.2\t191\t4150\tmale\n",
    "Adelie Biscoe\t39.6\t17.7\t186\t3500\tfemale\n",
    "Adelie Biscoe\t40.1\t18.9\t188\t4300\tmale\n",
    "Adelie Biscoe\t35\t17.9\t190\t3450\tfemale\n",
    "Adelie Biscoe\t42\t19.5\t200\t4050\tmale\n",
    "Adelie Biscoe\t34.5\t18.1\t187\t2900\tfemale\n",
    "Adelie Biscoe\t41.4\t18.6\t191\t3700\tmale\n",
    "Adelie Biscoe\t39\t17.5\t186\t3550\tfemale\n",
    "Adelie Biscoe\t40.6\t18.8\t193\t3800\tmale\n",
    "Adelie Biscoe\t36.5\t16.6\t181\t2850\tfemale\n",
    "Adelie Biscoe\t37.6\t19.1\t194\t3750\tmale\n",
    "Adelie Biscoe\t35.7\t16.9\t185\t3150\tfemale\n",
    "Adelie Biscoe\t41.3\t21.1\t195\t4400\tmale\n",
    "Adelie Biscoe\t37.6\t17\t185\t3600\tfemale\n",
    "Adelie Biscoe\t41.1\t18.2\t192\t4050\tmale\n",
    "Adelie Biscoe\t36.4\t17.1\t184\t2850\tfemale\n",
    "Adelie Biscoe\t41.6\t18\t192\t3950\tmale\n",
    "Adelie Biscoe\t35.5\t16.2\t195\t3350\tfemale\n",
    "Adelie Biscoe\t41.1\t19.1\t188\t4100\tmale\"\"\""
   ]
  },
  {
   "cell_type": "code",
   "execution_count": 155,
   "metadata": {},
   "outputs": [],
   "source": [
    "# Your code here\n",
    "\n",
    "def analyze(data, column_number): \n",
    "    data = data.splitlines() \n",
    "    result = {'male':0, 'female': 0} # Creates a dictionary to store mean values in. \n",
    "    numOfFemales = 0\n",
    "    numOfMales = 0\n",
    "    for row in data:\n",
    "        row = row.split(\"\\t\") # Columns divide by tab so split using \"\\t\"\n",
    "        if not \"NA\" in row and \"female\" in row: # NA is missing data, so ignores\n",
    "            numOfFemales += 1 \n",
    "            result['female'] += float(row[column_number]) # Adds column value to 'female' key's value\n",
    "        elif not \"NA\" in row and \"male\" in row: \n",
    "            numOfMales += 1 \n",
    "            result['male'] += float(row[column_number])\n",
    "    result['male'] = round(result['male'] / numOfMales, 1) # Divides by total number of male penguins to get mean\n",
    "    result['female'] = round(result['female'] / numOfFemales, 1)\n",
    "    return result "
   ]
  },
  {
   "cell_type": "markdown",
   "metadata": {},
   "source": [
    "**Explanation of cleantweet():**\n",
    "\n",
    "|Line Number| Code | Explanation|\n",
    "|---|---|---|\n",
    "|3.|`def analyze(data, column_number): `|Defines a function to give the mean of selected column||\n",
    "|4.|`    data = data.splitlines()`|Splits data such that each row is an element of the list data|\n",
    "|5.|`    result = {'female': 0, 'male':0}`|Creates dictionary to store the means of male and female penguins in|\n",
    "|6.|`    numOfFemales = 0`|Creates counter variable for total number of female penguins|\n",
    "|7.|`    numOfMales = 0`|Creates counter variable for total number of male penguins.|\n",
    "|8.|`    for row in data:`|Iterates over each row in the data| \n",
    "|9.|`        row = row.split(\"\\t\")`|Splits the row into a list of column elements| \n",
    "|10.|`        if not \"NA\" in row and \"female\" in row:`|Checks if no missing data and the penguin is female|\n",
    "|11.|`            numOfFemales += 1`|Adds 1 to counter value counting the number of female penguins|\n",
    "|12.|`            result['female'] += float(row[column_number])`|Adds the column value for that row to the \"female\" key's value|\n",
    "|13.|`        elif not \"NA\" in row and \"male\" in row:`|Checks if no missing data and the penguin is male|\n",
    "|14.|`            numOfMales += 1`|Adds 1 to counter value counting the number of male penguins\n",
    "|15.|`            result['male'] += float(row[column_number])`|Adds the column value for that row to the \"male\" key's value|\n",
    "|16.|`    result['male'] = round(result['male'] / numOfMales, 1)`|Finds the mean value for male penguins rounded to one decimal point (divides the sum of the column values for male penguins by the total number of male penguins)|\n",
    "|17.|`    result['female'] = round(result['female'] / numOfFemales, 1)`|Finds the mean value for female penguins rounded to one decimal point (divides the sum of the column values for male penguins by the total number of male penguins)|\n",
    "|18.|`    return result`|Returns the resulting dictionary with mean values for male and female penguins|"
   ]
  },
  {
   "cell_type": "markdown",
   "metadata": {},
   "source": [
    "b. Run your function on the numeric columns and show the output; i.e., report the mean for bill_length_mm, bill_depth_mm, flipper_length_mm, and body_mass_g for males and females. Write an executive summary of your groundbreaking results in 1 sentence."
   ]
  },
  {
   "cell_type": "code",
   "execution_count": 156,
   "metadata": {
    "scrolled": true
   },
   "outputs": [
    {
     "name": "stdout",
     "output_type": "stream",
     "text": [
      "The mean bill length in mm for males and females is {'male': 40.2, 'female': 37.6}\n",
      "The mean bill depth in mm for males and females is {'male': 19.4, 'female': 17.9}\n",
      "The mean flipper length in mm for males and females is {'male': 189.5, 'female': 185.6}\n",
      "The mean body mass in g for males and females is {'male': 4030.6, 'female': 3347.6}\n"
     ]
    }
   ],
   "source": [
    "# Your code here\n",
    "print(f\"The mean bill length in mm for males and females is {analyze(data, 1)}\")\n",
    "print(f\"The mean bill depth in mm for males and females is {analyze(data, 2)}\")\n",
    "print(f\"The mean flipper length in mm for males and females is {analyze(data, 3)}\")\n",
    "print(f\"The mean body mass in g for males and females is {analyze(data, 4)}\")\n",
    "\n",
    "# Your executive summary here\n",
    "# On average, males had higher values (longer bills, deeper bills, longer flippers, and higher body mass)\n",
    "# for all categories as compared to females. "
   ]
  }
 ],
 "metadata": {
  "kernelspec": {
   "display_name": "Python 3",
   "language": "python",
   "name": "python3"
  },
  "language_info": {
   "codemirror_mode": {
    "name": "ipython",
    "version": 3
   },
   "file_extension": ".py",
   "mimetype": "text/x-python",
   "name": "python",
   "nbconvert_exporter": "python",
   "pygments_lexer": "ipython3",
   "version": "3.7.6"
  }
 },
 "nbformat": 4,
 "nbformat_minor": 2
}
