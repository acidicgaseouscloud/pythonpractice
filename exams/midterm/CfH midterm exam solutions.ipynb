{
 "cells": [
  {
   "cell_type": "markdown",
   "metadata": {},
   "source": [
    "# Coding for Humanities midterm exam 2020\n",
    "\n",
    "Rules:\n",
    "- You should work alone.\n",
    "- You may look up any information you want (including re-using code from the labs or lectures), but don't copy-paste code without understanding it.\n",
    "- You should only use Python concepts that have been covered in the course slides and notebooks. (Note: The book contains some concepts that have NOT been covered; don't use those).\n",
    "- Partial credit will be assigned. Try to get as far as you can even if you cannot completely solve a problem.\n",
    "- Your solutions are graded for:\n",
    "  - whether your code works correctly in all cases,\n",
    "  - whether your accompanying explanation of the code is complete and correct,\n",
    "  - code style:\n",
    "    - meaningful variable names\n",
    "    - succinct & elegant code"
   ]
  },
  {
   "cell_type": "markdown",
   "metadata": {},
   "source": [
    "## 1. Deciphering double plus secure encryption (3 points).\n",
    "\n",
    "You work for the government of a small country. You are approached by a shady looking figure who wants to sell you a system called double plus secure(tm), for sending top secret messages. You suspect the system is actually not that secure, but to prove that you have to decipher the code, which has been obfuscated to protect their secret sauce.\n",
    "\n",
    "Consider the following function, in which the names for the parameters and local variables (i.e., variables inside the function) have been deliberately obfuscated:"
   ]
  },
  {
   "cell_type": "code",
   "execution_count": 56,
   "metadata": {},
   "outputs": [],
   "source": [
    "def encrypt(b):\n",
    "    c = b.split(' ')\n",
    "    d = ''\n",
    "    for e in c:\n",
    "        f = ''\n",
    "        for g in e:\n",
    "            f = g + f\n",
    "        d = f + ' ' + d\n",
    "    return d[:-1]"
   ]
  },
  {
   "cell_type": "markdown",
   "metadata": {},
   "source": [
    "a. Explain step by step the purpose of each line of the function. Refer to the data types involved, and the manipulation performed on that data."
   ]
  },
  {
   "cell_type": "markdown",
   "metadata": {},
   "source": [
    "1. encrypt requires a single string as argument\n",
    "2. the string b is split into words\n",
    "3. d is initialized to an empty string\n",
    "4. looping over the tokens in c\n",
    "5. f is initialized to an empty string\n",
    "6. looping over the characters in e\n",
    "7. add character g to the beginning of f\n",
    "8. add reversed token f to the beginning of d\n",
    "9. return d, but skip over last character (an extra space)"
   ]
  },
  {
   "cell_type": "markdown",
   "metadata": {},
   "source": [
    "b. Try the function with a few examples and print the results. Describe in one sentence what this function effectively does to its input `b`."
   ]
  },
  {
   "cell_type": "code",
   "execution_count": 75,
   "metadata": {},
   "outputs": [
    {
     "name": "stdout",
     "output_type": "stream",
     "text": [
      "'.elpmaxe na si sihT'\n",
      "'.elpmaxe rehtonA'\n"
     ]
    }
   ],
   "source": [
    "# Your explanation\n",
    "# The function returns a reversed version of the string b given as argument.\n",
    "print(repr(encrypt('This is an example.')))\n",
    "print(repr(encrypt('Another example.')))"
   ]
  },
  {
   "cell_type": "markdown",
   "metadata": {},
   "source": [
    "c. Create a function `decrypt(codedmessage)` that decodes a message 'encrypted' by this system and returns the original message. Use appriopriate and meaningful names for function, parameter, and local variables. Also simplify the code where possible, as long as it is able to correctly decrypt any coded message."
   ]
  },
  {
   "cell_type": "code",
   "execution_count": 74,
   "metadata": {},
   "outputs": [
    {
     "name": "stdout",
     "output_type": "stream",
     "text": [
      "This is a test\n",
      "True\n"
     ]
    }
   ],
   "source": [
    "# your code here\n",
    "def decrypt(codedmessage):\n",
    "    return codedmessage[::-1]\n",
    "\n",
    "# Tests\n",
    "print(decrypt(encrypt('This is a test')))  # should print 'This is a test'\n",
    "# more generally:\n",
    "message = 'This is  another test'\n",
    "print(decrypt(encrypt(message)) == message)  # should print True for every message"
   ]
  },
  {
   "cell_type": "markdown",
   "metadata": {},
   "source": [
    "## 2. The commander in tweets (3 points) \n",
    "\n",
    "Your government is worried about the outcome of the US presidential elections because it will have a large influence on their economy. Unfortunately, they are convinced of a simplistic theory claiming that electability can be predicted from the number of complex words the candidate uses on Twitter. After 13 hours of non-stop deliberation, a committee has decided that a complex word is a word that has more than 10 letters. You are asked to do an exploratory study of their hypothesis.\n",
    "\n",
    "a. Start by writing a function that takes a twitter message as input and returns a cleaned list of words. Make sure that `#hashtags`, `@usernames`, and `https://links` are not counted as potential words, and remove other punctuation from the tweet. You may use the `remove_punc()` or `remove_punc2()` function from the lab as a starting point."
   ]
  },
  {
   "cell_type": "code",
   "execution_count": 85,
   "metadata": {},
   "outputs": [
    {
     "name": "stdout",
     "output_type": "stream",
     "text": [
      "True\n",
      "True\n",
      "True\n",
      "True\n"
     ]
    }
   ],
   "source": [
    "# Your code here\n",
    "def cleantweet(text):\n",
    "    removechars = '!$%^&*()_-+={}[]:;\"/@#\\'|<>,.?~`🤦🏼‍♂️👇🏻…—'\n",
    "    words = []\n",
    "    for token in text.split():\n",
    "        word = ''.join(char for char in token if char not in removechars)\n",
    "        if word and not token.startswith(('@', '#', 'https://')):\n",
    "            words.append(word)\n",
    "    return words\n",
    "\n",
    "# Tests (all of these should print True)\n",
    "print(cleantweet('This is a test !') == ['This', 'is', 'a', 'test'])\n",
    "print(cleantweet('This #doesnotcountasaword.') == ['This'])\n",
    "print(cleantweet('https://t.co/BIzRKYzGdM') == [])\n",
    "print(cleantweet('This message is sophisticated.') == ['This', 'message', 'is', 'sophisticated'])"
   ]
  },
  {
   "cell_type": "markdown",
   "metadata": {},
   "source": [
    "b. Write a function that takes a twitter message as argument, cleans it with the function you wrote, and returns `True` or `False` depending on whether it contains any complex words (i.e., words with more than 10 letters). "
   ]
  },
  {
   "cell_type": "code",
   "execution_count": 86,
   "metadata": {},
   "outputs": [
    {
     "name": "stdout",
     "output_type": "stream",
     "text": [
      "True\n",
      "True\n",
      "True\n",
      "True\n"
     ]
    }
   ],
   "source": [
    "# Your code here\n",
    "def has_complex_words(tweet):\n",
    "    for word in cleantweet(tweet):\n",
    "        if len(word) > 10:\n",
    "            return True\n",
    "    return False\n",
    "\n",
    "# Tests (all of these should print True)\n",
    "print(has_complex_words('This is a test !') == False)\n",
    "print(has_complex_words('This #doesnotcountasaword.') == False)\n",
    "print(has_complex_words('https://t.co/BIzRKYzGdM') == False)\n",
    "print(has_complex_words('This message is sophisticated.') == True)"
   ]
  },
  {
   "cell_type": "markdown",
   "metadata": {},
   "source": [
    "c. You will now use your function on the tweets below, given as one tweet per line; run the cells before proceeding. Write a function that reports, for a given set of tweets, the percentage of tweets with complex words; use this function to compare the candidates. Does Trump really have the '[best words](https://www.youtube.com/watch?v=0T-Eo0j092Q)'? Report the results of your function on both candidates, and write an executive summary in 1 sentence.\n",
    "\n",
    "Data credit: https://github.com/gomachinelearning/Blogs/"
   ]
  },
  {
   "cell_type": "code",
   "execution_count": 9,
   "metadata": {},
   "outputs": [],
   "source": [
    "trump = \"\"\"Failing  Michigan Governor must work harder and be much more proactive. We are pushing her to get the job done. I stand with Michigan!\n",
    "RT @LindseyGrahamSC: President Trump’s decision to declare a national emergency over the #coronavirus pandemic is the right call. \n",
    "RT @LindseyGrahamSC: Really appreciate the efforts of Dr. #Fauci. He has become a national treasure just like ALL of our healthcare workers…\n",
    "RT @WhiteHouse: Avoid eating out. Use carry-out, drive-thru, and delivery options. https://t.co/osBRcxnyFY\n",
    "RT @WhiteHouse: Help make the next 15 days count and avoid social gatherings of more than 10 people. https://t.co/txPAAFtxIu\n",
    "Cuomo wants “all states to be treated the same.” But all states aren’t the same. Some are being hit hard by the Chinese Virus, some are being hit practically not at all. New York is a very big “hotspot”, West Virginia has, thus far, zero cases. Andrew, keep politics out of it....\n",
    "RT @AFP: #UPDATE The first human trial to evaluate a candidate vaccine against the new coronavirus has begun in Seattle, US health official…\n",
    "RT @marklevinshow: The Jewish case for President Trump\n",
    "https://t.co/PZfxzgoQwM\n",
    "RT @marklevinshow: Democrat Party-press wrong and disappointed\n",
    "https://t.co/BIzRKYzGdM\n",
    "RT @marklevinshow: The debate tonight is hardly a debate at all. Biden has largely moved hard left where there are now relatively few diffe…\n",
    "RT @marklevinshow: It’s amazing how hospitable the moderators are to the Democrat Party’s leftwing agenda.  Thus far, absolutely no serious…\n",
    "RT @marklevinshow: https://t.co/CzAAVvzmrQ\n",
    "RT @marklevinshow: The Atlantic spews communist China’s propaganda while trashing the Trump administration.  And it’s not alone among the A…\n",
    "RT @trscoop: Leftist math genius caught in another FAIL over lying about Trump’s comments to governors to make him look bad https://t.co/3P…\n",
    "RT @RedState: Dan Bongino and Others Call out NYT Editor for Altering Trump Quote From Conference Call With Governors https://t.co/gz0lCPx4…\n",
    "RT @dbongino: It’s pretty hilarious that the NY Times thinks we’re not gonna fact-check everything they say and type, give their propensity…\n",
    "RT @TomFitton: A simple truth.\n",
    "RT @Techno_Fog: Wow.\n",
    "The DOJ moves to dismiss the charges against the Russian Company (Concord) who conducted the alleged \"information war…\n",
    "RT @dbongino: Team Mueller 🤦🏼‍♂️🤦🏼‍♂️🤦🏼‍♂️🤦🏼‍♂️🤦🏼‍♂️🤦🏼‍♂️👇🏻👇🏻\n",
    "The “Times” is a disgrace to journalism! https://t.co/gfMc6fIbfI\n",
    "RT @LindseyGrahamSC: I look forward to getting back to work with my Senate colleagues and President Trump to contain this virus and stabili…\n",
    "Great news Lindsey! https://t.co/Fn8C7IoZaF\n",
    "RT @LindseyGrahamSC: My primary goal is to lessen the loss of life.  \n",
    "Our economy can be rebuilt.  The loss of life is permanent. \n",
    "The United States will be powerfully supporting those industries, like Airlines and others, that are particularly affected by the Chinese Virus. We will be stronger than ever before!\n",
    "I ask all Americans to band together and support your neighbors by not hoarding unnecessary amounts of food and essentials. TOGETHER we will stay STRONG and overcome this challenge!\n",
    "Yesterday I spoke with the great American Grocers and Supply Chain Executives. We are confident that supply will continue to meet demand nationwide. These beacons of our community will remain open for you, no matter what. We are working hard to remove any barriers to that effort!\"\"\""
   ]
  },
  {
   "cell_type": "code",
   "execution_count": 10,
   "metadata": {},
   "outputs": [],
   "source": [
    "biden = \"\"\"To Trump, the people getting hurt are just pawns in his game. #TeamJoe\n",
    "Hey everyone, @TeamJoe here. We’re taking over to keep you in the loop on our event in Ottumwa, Iowa. Stay tuned! #TeamJoe\n",
    "I'm headed to eastern Iowa this week to talk with voters about our vision for the future. Head to https://t.co/r0RlGWdvLe to RSVP to an event in your community.\n",
    "It was great to be back in Atlanta! Thank you to Mayor @KeishaBottoms for showing me around town and for your work expanding opportunity to every corner of the city. https://t.co/kmhmeN5lHm\n",
    "President Trump’s decision to abandon the #ParisAgreement wasn't just reckless—it abdicated our leadership on the world stage and threatened the future of our planet.\n",
    "On day one, I’ll rejoin the Agreement and rally the world to push our progress further. https://t.co/0Wxk0RIYvs\n",
    "Jill &amp; I were thrilled to be there today to watch our amazing granddaughter Maisy graduate. Maisy, you make us so proud &amp; we can’t wait to see what you do next with your talent, smarts, dedication and kindness. The future is yours, and Nana &amp; Pop will always be right behind you. https://t.co/zj80Kee4l3\n",
    "As president, I’ll lead America to become the world’s clean energy superpower.\n",
    "https://t.co/FbsOsyQkIo https://t.co/rzeIcuW9BW\n",
    "Happy birthday to one of the strongest people Jill and I know, @GabbyGiffords. You are an inspiration to so many people. Your courage and your advocacy have made our country a better place.\n",
    "Happy #BestFriendsDay to my friend, @BarackObama. https://t.co/JTd1t7NtyL\n",
    "The Bidens are celebrating my daughter Ashley’s birthday today. @DrBiden and I are so proud of everything she has accomplished and can’t wait to see what she achieves in the years ahead. https://t.co/XlUZHSBMKp\n",
    "Across America, mayors are stepping up and leading the way on combating climate change. Thank you to @MartyForBoston for showing me the innovative work Boston is doing to protect the city from rising sea levels and increased flooding. https://t.co/LZKp6WNWlj\n",
    "Iowa, we’re heading your way next week and hope to see you there! Go to https://t.co/r0RlGWdvLe to RSVP to an event in your community.\n",
    "Make no mistake, how we act in the next 12 years will determine the very livability of our planet. We’ll make the largest investment in American history to tackle the climate emergency head on and protect our planet for future generations. https://t.co/XJsdFWUo9j\n",
    "This campaign is about listening to communities and working with them to find solutions to the issues on their minds. Yesterday we held a roundtable to do just that.\n",
    "Thank you to everyone who shared their stories with me in Atlanta. https://t.co/xSyn19iT7L\n",
    "I know how to beat the NRA because I’ve done it before - twice. I shepherded through the passage of the Brady background check bill in 1993, and bans on assault weapons and high-capacity magazines in 1994. As president, I will defeat the NRA again.\n",
    "We can’t let a special interest group dictate the safety of the rest of the country. That’s why defeating the NRA is a key element of our education policy we introduced last week.\n",
    "We will be rolling out policies to reduce gun violence in the coming months, but it’s clear we need to: \n",
    "- Close the loophole that allows individuals to buy guns online or at gun shows without a background check.\n",
    "- Ban the sale of assault weapons and high-capacity magazines.\n",
    "There are actions that Congress can take right now if they were to listen to the majority of the American people who want to see our government take action to stop gun violence.\n",
    "We don't need to convince the American public that common-sense measures to reduce gun violence are a good idea. 2 in 3 people believe that we need stricter gun laws.\n",
    "This is politics at its worst. We should all feel safe to walk the streets of our own cities and towns. Our workers should feel safe at work. Our students should always feel safe at school.\n",
    "We need action. But the NRA and gun manufacturers have such a firm grip on Republicans in Congress that they refuse to consider common-sense gun reforms.\n",
    "Today is #NationalGunViolenceAwarenessDay. Our team, and people across the country, are wearing orange in remembrance of the countless lives that have been cut short by senseless acts of gun violence in America.\n",
    "Women’s rights and health care are under assault in a way that seeks to roll back every step of progress we’ve made over the last 50 years. If I believe health care is a right, as I do, I can no longer support an amendment that makes that right dependent on someone’s zip code.\n",
    "Today, we honor all those who answered duty’s call on June 6, 1944, not only in memorials and remembrances, but in recommitting ourselves to the urgent task of defending those values for which they fought and so many died.\n",
    "Their valor cemented in history their place of honor and it planted the seeds of what would grow to become the greatest military alliance in the history of the world—one that would preserve the peace and extend the hard won gains of democracy for their children and grandchildren.\"\"\""
   ]
  },
  {
   "cell_type": "code",
   "execution_count": 87,
   "metadata": {},
   "outputs": [
    {
     "name": "stdout",
     "output_type": "stream",
     "text": [
      "Trump 23.333333333333332\n",
      "Biden 46.666666666666664\n"
     ]
    }
   ],
   "source": [
    "# Your code here\n",
    "def proportion_complex_tweets(tweets):\n",
    "    tweets = tweets.splitlines()\n",
    "    result = 0\n",
    "    for tweet in tweets:\n",
    "        if has_complex_words(tweet):\n",
    "            result += 1\n",
    "    return 100 * result / len(tweets)\n",
    "\n",
    "\n",
    "# Show the results\n",
    "print('Trump', proportion_complex_tweets(trump))\n",
    "print('Biden', proportion_complex_tweets(biden))\n",
    "\n",
    "# Executive summary:\n",
    "# Biden has a larger proportion of tweets with complex words."
   ]
  },
  {
   "cell_type": "markdown",
   "metadata": {},
   "source": [
    "## 3. Penguins (3 points)\n",
    "\n",
    "After successfully uncovering the spy operation and impressing your government with your analysis of the US presidential elections, as a reward you are sent to Antarctica to study penguins. Your mission is to settle long standing questions on sex differences in penguins. You have collected data in a table (given as a string in the cell below, run it before proceeding), and are asked to summarize the results.\n",
    "\n",
    "The table has the following columns (prefixed by the column number starting from 0):\n",
    "\n",
    "0. `species/island` (str)\n",
    "1. `bill_length_mm` (float)\n",
    "2. `bill_depth_mm` (float)\n",
    "3. `flipper_length_mm` (float)\n",
    "4. `body_mass_g` (float)\n",
    "5. `sex` (str)\n",
    "\n",
    "a. Write a function `analyze(data, column_number)` that goes through the table and computes the mean of the numbers in the specified column. Your function only has to work for the numeric (float) columns. Calculate the mean by summing the numbers, and then dividing by the number of penguins. Since your research question involves sex differences, compute the mean for males and females separately and return both numbers in a dictionary. Some data is missing, indicated with the value `'NA'`. Skip those lines/penguins/measurements.\n",
    "\n",
    "Hints:\n",
    " - Go through the table line by line. Split it into lines with the method [splitlines()](https://docs.python.org/3/library/stdtypes.html#str.splitlines) which returns a list.\n",
    " - The table is in a tab-separated format (Jupyter displays the tab characters with a special arrow symbol). Given a line of the table, split the line into a list with `line.split('\\t')`.\n",
    " - `analyze(data, 3)` should return the means for column 3 (starting from 0), i.e., `flipper_length_mm` in this dataset. Again, your code only has to work for the float columns.\n",
    " - The code should return a dictionary of the form\n",
    "   `{'male': 181.2, 'female': 177.4}` (these numbers are just examples)\n",
    "\n",
    "Dataset credits: https://github.com/allisonhorst/palmerpenguins"
   ]
  },
  {
   "cell_type": "code",
   "execution_count": 5,
   "metadata": {},
   "outputs": [],
   "source": [
    "data = \"\"\"Adelie Torgersen\t39.1\t18.7\t181\t3750\tmale\n",
    "Adelie Torgersen\t39.5\t17.4\t186\t3800\tfemale\n",
    "Adelie Torgersen\t40.3\t18\t195\t3250\tfemale\n",
    "Adelie Torgersen\tNA\tNA\tNA\tNA\tNA\n",
    "Adelie Torgersen\t36.7\t19.3\t193\t3450\tfemale\n",
    "Adelie Torgersen\t39.3\t20.6\t190\t3650\tmale\n",
    "Adelie Torgersen\t38.9\t17.8\t181\t3625\tfemale\n",
    "Adelie Torgersen\t39.2\t19.6\t195\t4675\tmale\n",
    "Adelie Torgersen\t34.1\t18.1\t193\t3475\tNA\n",
    "Adelie Torgersen\t42\t20.2\t190\t4250\tNA\n",
    "Adelie Torgersen\t37.8\t17.1\t186\t3300\tNA\n",
    "Adelie Torgersen\t37.8\t17.3\t180\t3700\tNA\n",
    "Adelie Torgersen\t41.1\t17.6\t182\t3200\tfemale\n",
    "Adelie Torgersen\t38.6\t21.2\t191\t3800\tmale\n",
    "Adelie Torgersen\t34.6\t21.1\t198\t4400\tmale\n",
    "Adelie Torgersen\t36.6\t17.8\t185\t3700\tfemale\n",
    "Adelie Torgersen\t38.7\t19\t195\t3450\tfemale\n",
    "Adelie Torgersen\t42.5\t20.7\t197\t4500\tmale\n",
    "Adelie Torgersen\t34.4\t18.4\t184\t3325\tfemale\n",
    "Adelie Torgersen\t46\t21.5\t194\t4200\tmale\n",
    "Adelie Biscoe\t37.8\t18.3\t174\t3400\tfemale\n",
    "Adelie Biscoe\t37.7\t18.7\t180\t3600\tmale\n",
    "Adelie Biscoe\t35.9\t19.2\t189\t3800\tfemale\n",
    "Adelie Biscoe\t38.2\t18.1\t185\t3950\tmale\n",
    "Adelie Biscoe\t38.8\t17.2\t180\t3800\tmale\n",
    "Adelie Biscoe\t35.3\t18.9\t187\t3800\tfemale\n",
    "Adelie Biscoe\t40.6\t18.6\t183\t3550\tmale\n",
    "Adelie Biscoe\t40.5\t17.9\t187\t3200\tfemale\n",
    "Adelie Biscoe\t37.9\t18.6\t172\t3150\tfemale\n",
    "Adelie Biscoe\t40.5\t18.9\t180\t3950\tmale\n",
    "Adelie Dream\t39.5\t16.7\t178\t3250\tfemale\n",
    "Adelie Dream\t37.2\t18.1\t178\t3900\tmale\n",
    "Adelie Dream\t39.5\t17.8\t188\t3300\tfemale\n",
    "Adelie Dream\t40.9\t18.9\t184\t3900\tmale\n",
    "Adelie Dream\t36.4\t17\t195\t3325\tfemale\n",
    "Adelie Dream\t39.2\t21.1\t196\t4150\tmale\n",
    "Adelie Dream\t38.8\t20\t190\t3950\tmale\n",
    "Adelie Dream\t42.2\t18.5\t180\t3550\tfemale\n",
    "Adelie Dream\t37.6\t19.3\t181\t3300\tfemale\n",
    "Adelie Dream\t39.8\t19.1\t184\t4650\tmale\n",
    "Adelie Dream\t36.5\t18\t182\t3150\tfemale\n",
    "Adelie Dream\t40.8\t18.4\t195\t3900\tmale\n",
    "Adelie Dream\t36\t18.5\t186\t3100\tfemale\n",
    "Adelie Dream\t44.1\t19.7\t196\t4400\tmale\n",
    "Adelie Dream\t37\t16.9\t185\t3000\tfemale\n",
    "Adelie Dream\t39.6\t18.8\t190\t4600\tmale\n",
    "Adelie Dream\t41.1\t19\t182\t3425\tmale\n",
    "Adelie Dream\t37.5\t18.9\t179\t2975\tNA\n",
    "Adelie Dream\t36\t17.9\t190\t3450\tfemale\n",
    "Adelie Dream\t42.3\t21.2\t191\t4150\tmale\n",
    "Adelie Biscoe\t39.6\t17.7\t186\t3500\tfemale\n",
    "Adelie Biscoe\t40.1\t18.9\t188\t4300\tmale\n",
    "Adelie Biscoe\t35\t17.9\t190\t3450\tfemale\n",
    "Adelie Biscoe\t42\t19.5\t200\t4050\tmale\n",
    "Adelie Biscoe\t34.5\t18.1\t187\t2900\tfemale\n",
    "Adelie Biscoe\t41.4\t18.6\t191\t3700\tmale\n",
    "Adelie Biscoe\t39\t17.5\t186\t3550\tfemale\n",
    "Adelie Biscoe\t40.6\t18.8\t193\t3800\tmale\n",
    "Adelie Biscoe\t36.5\t16.6\t181\t2850\tfemale\n",
    "Adelie Biscoe\t37.6\t19.1\t194\t3750\tmale\n",
    "Adelie Biscoe\t35.7\t16.9\t185\t3150\tfemale\n",
    "Adelie Biscoe\t41.3\t21.1\t195\t4400\tmale\n",
    "Adelie Biscoe\t37.6\t17\t185\t3600\tfemale\n",
    "Adelie Biscoe\t41.1\t18.2\t192\t4050\tmale\n",
    "Adelie Biscoe\t36.4\t17.1\t184\t2850\tfemale\n",
    "Adelie Biscoe\t41.6\t18\t192\t3950\tmale\n",
    "Adelie Biscoe\t35.5\t16.2\t195\t3350\tfemale\n",
    "Adelie Biscoe\t41.1\t19.1\t188\t4100\tmale\"\"\""
   ]
  },
  {
   "cell_type": "code",
   "execution_count": 6,
   "metadata": {},
   "outputs": [],
   "source": [
    "# Your code here\n",
    "def analyze(data, column_number):\n",
    "    male = []\n",
    "    female = []\n",
    "    for line in data.splitlines():\n",
    "        fields = line.split('\\t')\n",
    "        if fields[5] == 'male':\n",
    "            male.append(float(fields[column_number]))\n",
    "        elif fields[5] == 'female':\n",
    "            female.append(float(fields[column_number]))\n",
    "        # skip if sex is 'NA'\n",
    "    return {'male': sum(male) / len(male),\n",
    "           'female': sum(female) / len(female)}"
   ]
  },
  {
   "cell_type": "markdown",
   "metadata": {},
   "source": [
    "b. Run your function on the numeric columns and show the output; i.e., report the mean for bill_length_mm, bill_depth_mm, flipper_length_mm, and body_mass_g for males and females. Write an executive summary of your groundbreaking results in 1 sentence."
   ]
  },
  {
   "cell_type": "code",
   "execution_count": 61,
   "metadata": {
    "scrolled": true
   },
   "outputs": [
    {
     "name": "stdout",
     "output_type": "stream",
     "text": [
      "bill_length_mm     {'male': 40.183870967741925, 'female': 37.5516129032258}\n",
      "bill_depth_mm      {'male': 19.370967741935484, 'female': 17.86451612903226}\n",
      "flipper_length_mm  {'male': 189.4516129032258, 'female': 185.61290322580646}\n",
      "body_mass_g        {'male': 4030.6451612903224, 'female': 3347.5806451612902}\n"
     ]
    }
   ],
   "source": [
    "# Your code here\n",
    "print('bill_length_mm    ', analyze(data, 1))\n",
    "print('bill_depth_mm     ', analyze(data, 2))\n",
    "print('flipper_length_mm ', analyze(data, 3))\n",
    "print('body_mass_g       ', analyze(data, 4))\n",
    "\n",
    "# Your executive summary here\n",
    "# Males have higher values for each variable."
   ]
  }
 ],
 "metadata": {
  "kernelspec": {
   "display_name": "Python 3",
   "language": "python",
   "name": "python3"
  },
  "language_info": {
   "codemirror_mode": {
    "name": "ipython",
    "version": 3
   },
   "file_extension": ".py",
   "mimetype": "text/x-python",
   "name": "python",
   "nbconvert_exporter": "python",
   "pygments_lexer": "ipython3",
   "version": "3.7.6"
  }
 },
 "nbformat": 4,
 "nbformat_minor": 2
}
